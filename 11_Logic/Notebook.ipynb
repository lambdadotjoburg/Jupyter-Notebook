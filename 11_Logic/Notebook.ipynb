{
 "cells": [
  {
   "cell_type": "markdown",
   "id": "cb02f982",
   "metadata": {},
   "source": [
    "# Logic"
   ]
  },
  {
   "cell_type": "code",
   "execution_count": 18,
   "id": "d441ff58",
   "metadata": {},
   "outputs": [],
   "source": [
    "from sympy import *\n",
    "x, y = symbols('x,y')"
   ]
  },
  {
   "cell_type": "code",
   "execution_count": 19,
   "id": "53f6bbb3",
   "metadata": {},
   "outputs": [
    {
     "data": {
      "text/latex": [
       "$\\displaystyle y \\vee \\left(x \\wedge y\\right)$"
      ],
      "text/plain": [
       "y | (x & y)"
      ]
     },
     "execution_count": 19,
     "metadata": {},
     "output_type": "execute_result"
    }
   ],
   "source": [
    "y | (x & y)"
   ]
  },
  {
   "cell_type": "code",
   "execution_count": 20,
   "id": "1e194f11",
   "metadata": {},
   "outputs": [
    {
     "data": {
      "text/latex": [
       "$\\displaystyle x \\vee y$"
      ],
      "text/plain": [
       "x | y"
      ]
     },
     "execution_count": 20,
     "metadata": {},
     "output_type": "execute_result"
    }
   ],
   "source": [
    "x | y"
   ]
  },
  {
   "cell_type": "code",
   "execution_count": 21,
   "id": "89f9d906",
   "metadata": {},
   "outputs": [
    {
     "data": {
      "text/latex": [
       "$\\displaystyle \\neg x$"
      ],
      "text/plain": [
       "~x"
      ]
     },
     "execution_count": 21,
     "metadata": {},
     "output_type": "execute_result"
    }
   ],
   "source": [
    "~x"
   ]
  },
  {
   "cell_type": "code",
   "execution_count": 22,
   "id": "b9f16d07",
   "metadata": {},
   "outputs": [
    {
     "data": {
      "text/latex": [
       "$\\displaystyle x \\Rightarrow y$"
      ],
      "text/plain": [
       "Implies(x, y)"
      ]
     },
     "execution_count": 22,
     "metadata": {},
     "output_type": "execute_result"
    }
   ],
   "source": [
    "x >> y\n",
    "Implies(x, y)"
   ]
  },
  {
   "cell_type": "code",
   "execution_count": 23,
   "id": "2d82984d",
   "metadata": {},
   "outputs": [
    {
     "data": {
      "text/latex": [
       "$\\displaystyle y \\Rightarrow x$"
      ],
      "text/plain": [
       "Implies(y, x)"
      ]
     },
     "execution_count": 23,
     "metadata": {},
     "output_type": "execute_result"
    }
   ],
   "source": [
    "x << y\n",
    "Implies(y, x)"
   ]
  },
  {
   "cell_type": "code",
   "execution_count": 24,
   "id": "3eb656b6",
   "metadata": {},
   "outputs": [
    {
     "data": {
      "text/latex": [
       "$\\displaystyle \\text{True}$"
      ],
      "text/plain": [
       "True"
      ]
     },
     "execution_count": 24,
     "metadata": {},
     "output_type": "execute_result"
    }
   ],
   "source": [
    "(y & x).subs({x: True, y: True})"
   ]
  },
  {
   "cell_type": "code",
   "execution_count": 25,
   "id": "5a0e7122",
   "metadata": {},
   "outputs": [
    {
     "data": {
      "text/plain": [
       "{x, y}"
      ]
     },
     "execution_count": 25,
     "metadata": {},
     "output_type": "execute_result"
    }
   ],
   "source": [
    "(x | y).atoms()"
   ]
  },
  {
   "cell_type": "code",
   "execution_count": 26,
   "id": "ab89205f",
   "metadata": {},
   "outputs": [],
   "source": [
    "A, B = symbols('A, B')"
   ]
  },
  {
   "cell_type": "code",
   "execution_count": 27,
   "id": "2677c37b",
   "metadata": {},
   "outputs": [
    {
     "data": {
      "text/latex": [
       "$\\displaystyle \\neg \\left(\\left(A \\vee B\\right) \\wedge \\left(\\neg A \\vee \\neg B\\right)\\right)$"
      ],
      "text/plain": [
       "~((A | B) & (~A | ~B))"
      ]
     },
     "execution_count": 27,
     "metadata": {},
     "output_type": "execute_result"
    }
   ],
   "source": [
    "~((A | B) & (~A | ~B))"
   ]
  },
  {
   "cell_type": "markdown",
   "id": "d9de4b82",
   "metadata": {},
   "source": [
    "# Inference & Models"
   ]
  },
  {
   "cell_type": "code",
   "execution_count": 28,
   "id": "c4a27af1",
   "metadata": {},
   "outputs": [],
   "source": [
    "from sympy.logic.inference import satisfiable\n",
    "from sympy import Symbol\n",
    "x = Symbol('x')\n",
    "y = Symbol('y')"
   ]
  },
  {
   "cell_type": "code",
   "execution_count": 29,
   "id": "3c51c128",
   "metadata": {},
   "outputs": [
    {
     "data": {
      "text/plain": [
       "False"
      ]
     },
     "execution_count": 29,
     "metadata": {},
     "output_type": "execute_result"
    }
   ],
   "source": [
    "satisfiable(x & ~x)"
   ]
  },
  {
   "cell_type": "code",
   "execution_count": 30,
   "id": "2417bd89",
   "metadata": {},
   "outputs": [
    {
     "data": {
      "text/plain": [
       "{x: True, y: True}"
      ]
     },
     "execution_count": 30,
     "metadata": {},
     "output_type": "execute_result"
    }
   ],
   "source": [
    "satisfiable((x | y) & (x | ~y) & (~x | y))"
   ]
  },
  {
   "cell_type": "code",
   "execution_count": 43,
   "id": "80797f0b",
   "metadata": {},
   "outputs": [],
   "source": [
    "from sympy.abc import A, B\n",
    "from sympy.logic.inference import satisfiable"
   ]
  },
  {
   "cell_type": "code",
   "execution_count": 44,
   "id": "9ddd1765",
   "metadata": {},
   "outputs": [
    {
     "data": {
      "text/plain": [
       "{A: True, B: False}"
      ]
     },
     "execution_count": 44,
     "metadata": {},
     "output_type": "execute_result"
    }
   ],
   "source": [
    "satisfiable(A & ~B)"
   ]
  },
  {
   "cell_type": "code",
   "execution_count": 45,
   "id": "a763da74",
   "metadata": {},
   "outputs": [
    {
     "data": {
      "text/plain": [
       "False"
      ]
     },
     "execution_count": 45,
     "metadata": {},
     "output_type": "execute_result"
    }
   ],
   "source": [
    "satisfiable(A & ~A)"
   ]
  },
  {
   "cell_type": "code",
   "execution_count": 46,
   "id": "b8102d99",
   "metadata": {},
   "outputs": [
    {
     "data": {
      "text/plain": [
       "{True: True}"
      ]
     },
     "execution_count": 46,
     "metadata": {},
     "output_type": "execute_result"
    }
   ],
   "source": [
    "satisfiable(True)"
   ]
  },
  {
   "cell_type": "code",
   "execution_count": 47,
   "id": "2b50a253",
   "metadata": {},
   "outputs": [
    {
     "data": {
      "text/plain": [
       "False"
      ]
     },
     "execution_count": 47,
     "metadata": {},
     "output_type": "execute_result"
    }
   ],
   "source": [
    "next(satisfiable(A & ~A, all_models=True))"
   ]
  },
  {
   "cell_type": "code",
   "execution_count": 48,
   "id": "4db9f6f5",
   "metadata": {},
   "outputs": [
    {
     "data": {
      "text/plain": [
       "{B: True, A: False}"
      ]
     },
     "execution_count": 48,
     "metadata": {},
     "output_type": "execute_result"
    }
   ],
   "source": [
    "models = satisfiable((A >> B) & B, all_models=True)\n",
    "next(models)"
   ]
  },
  {
   "cell_type": "code",
   "execution_count": 49,
   "id": "2026bd34",
   "metadata": {},
   "outputs": [
    {
     "data": {
      "text/plain": [
       "{B: True, A: True}"
      ]
     },
     "execution_count": 49,
     "metadata": {},
     "output_type": "execute_result"
    }
   ],
   "source": [
    "next(models)"
   ]
  },
  {
   "cell_type": "code",
   "execution_count": 50,
   "id": "99e81cd3",
   "metadata": {},
   "outputs": [],
   "source": [
    "def use_models(models):\n",
    "    for model in models:\n",
    "        if model:\n",
    "            # Do something with the model.\n",
    "            print(model)\n",
    "        else:\n",
    "            # Given expr is unsatisfiable.\n",
    "            print(\"UNSAT\")"
   ]
  },
  {
   "cell_type": "code",
   "execution_count": 51,
   "id": "b6c624f7",
   "metadata": {},
   "outputs": [
    {
     "name": "stdout",
     "output_type": "stream",
     "text": [
      "{A: False}\n"
     ]
    }
   ],
   "source": [
    "use_models(satisfiable(A >> ~A, all_models=True))"
   ]
  },
  {
   "cell_type": "code",
   "execution_count": 52,
   "id": "f0e393e1",
   "metadata": {},
   "outputs": [
    {
     "name": "stdout",
     "output_type": "stream",
     "text": [
      "UNSAT\n"
     ]
    }
   ],
   "source": [
    "use_models(satisfiable(A ^ A, all_models=True))"
   ]
  },
  {
   "cell_type": "code",
   "execution_count": null,
   "id": "6e4c163a",
   "metadata": {},
   "outputs": [],
   "source": []
  },
  {
   "cell_type": "code",
   "execution_count": null,
   "id": "01e6933a",
   "metadata": {},
   "outputs": [],
   "source": []
  }
 ],
 "metadata": {
  "kernelspec": {
   "display_name": "Python 3 (ipykernel)",
   "language": "python",
   "name": "python3"
  },
  "language_info": {
   "codemirror_mode": {
    "name": "ipython",
    "version": 3
   },
   "file_extension": ".py",
   "mimetype": "text/x-python",
   "name": "python",
   "nbconvert_exporter": "python",
   "pygments_lexer": "ipython3",
   "version": "3.10.4"
  }
 },
 "nbformat": 4,
 "nbformat_minor": 5
}
