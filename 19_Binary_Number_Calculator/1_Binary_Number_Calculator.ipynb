{
 "cells": [
  {
   "cell_type": "markdown",
   "id": "dd469cce",
   "metadata": {},
   "source": [
    "# Binary Number Caclulator"
   ]
  },
  {
   "cell_type": "code",
   "execution_count": 26,
   "id": "921d17e4",
   "metadata": {},
   "outputs": [],
   "source": [
    "from math import *"
   ]
  },
  {
   "cell_type": "code",
   "execution_count": 27,
   "id": "846a1ede",
   "metadata": {},
   "outputs": [],
   "source": [
    "dec = 46;"
   ]
  },
  {
   "cell_type": "code",
   "execution_count": 28,
   "id": "97465715",
   "metadata": {},
   "outputs": [
    {
     "data": {
      "text/plain": [
       "2"
      ]
     },
     "execution_count": 28,
     "metadata": {},
     "output_type": "execute_result"
    }
   ],
   "source": [
    "int(pow(2, 1))"
   ]
  },
  {
   "cell_type": "code",
   "execution_count": 29,
   "id": "3d4e40d7",
   "metadata": {},
   "outputs": [
    {
     "data": {
      "text/plain": [
       "4"
      ]
     },
     "execution_count": 29,
     "metadata": {},
     "output_type": "execute_result"
    }
   ],
   "source": [
    "int(pow(2, 2))"
   ]
  },
  {
   "cell_type": "code",
   "execution_count": 30,
   "id": "206fcfe4",
   "metadata": {},
   "outputs": [
    {
     "data": {
      "text/plain": [
       "8"
      ]
     },
     "execution_count": 30,
     "metadata": {},
     "output_type": "execute_result"
    }
   ],
   "source": [
    "int(pow(2, 3))"
   ]
  },
  {
   "cell_type": "code",
   "execution_count": 31,
   "id": "de6ea143",
   "metadata": {},
   "outputs": [
    {
     "data": {
      "text/plain": [
       "16"
      ]
     },
     "execution_count": 31,
     "metadata": {},
     "output_type": "execute_result"
    }
   ],
   "source": [
    "int(pow(2, 4))"
   ]
  },
  {
   "cell_type": "code",
   "execution_count": 32,
   "id": "12589cab",
   "metadata": {},
   "outputs": [
    {
     "data": {
      "text/plain": [
       "32"
      ]
     },
     "execution_count": 32,
     "metadata": {},
     "output_type": "execute_result"
    }
   ],
   "source": [
    "int(pow(2, 5))"
   ]
  },
  {
   "cell_type": "code",
   "execution_count": 33,
   "id": "05ca67a5",
   "metadata": {},
   "outputs": [
    {
     "data": {
      "text/plain": [
       "64"
      ]
     },
     "execution_count": 33,
     "metadata": {},
     "output_type": "execute_result"
    }
   ],
   "source": [
    "int(pow(2, 6))"
   ]
  },
  {
   "cell_type": "code",
   "execution_count": 34,
   "id": "f189b81d",
   "metadata": {},
   "outputs": [
    {
     "data": {
      "text/plain": [
       "128"
      ]
     },
     "execution_count": 34,
     "metadata": {},
     "output_type": "execute_result"
    }
   ],
   "source": [
    "int(pow(2, 7))"
   ]
  },
  {
   "cell_type": "code",
   "execution_count": 35,
   "id": "15ff840b",
   "metadata": {},
   "outputs": [
    {
     "data": {
      "text/plain": [
       "256"
      ]
     },
     "execution_count": 35,
     "metadata": {},
     "output_type": "execute_result"
    }
   ],
   "source": [
    "int(pow(2, 8))"
   ]
  },
  {
   "cell_type": "code",
   "execution_count": 36,
   "id": "f95e8d36",
   "metadata": {},
   "outputs": [
    {
     "data": {
      "text/plain": [
       "512"
      ]
     },
     "execution_count": 36,
     "metadata": {},
     "output_type": "execute_result"
    }
   ],
   "source": [
    "int(pow(2, 9))"
   ]
  },
  {
   "cell_type": "code",
   "execution_count": null,
   "id": "894bb117",
   "metadata": {},
   "outputs": [],
   "source": []
  },
  {
   "cell_type": "code",
   "execution_count": null,
   "id": "745caff4",
   "metadata": {},
   "outputs": [],
   "source": []
  }
 ],
 "metadata": {
  "kernelspec": {
   "display_name": "Python 3 (ipykernel)",
   "language": "python",
   "name": "python3"
  },
  "language_info": {
   "codemirror_mode": {
    "name": "ipython",
    "version": 3
   },
   "file_extension": ".py",
   "mimetype": "text/x-python",
   "name": "python",
   "nbconvert_exporter": "python",
   "pygments_lexer": "ipython3",
   "version": "3.10.4"
  }
 },
 "nbformat": 4,
 "nbformat_minor": 5
}
