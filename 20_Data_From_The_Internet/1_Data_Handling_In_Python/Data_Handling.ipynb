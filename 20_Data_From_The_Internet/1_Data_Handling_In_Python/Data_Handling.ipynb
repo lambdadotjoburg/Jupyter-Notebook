{
 "cells": [
  {
   "cell_type": "code",
   "execution_count": 17,
   "id": "101ffaa4",
   "metadata": {},
   "outputs": [
    {
     "name": "stdout",
     "output_type": "stream",
     "text": [
      "Total no. of rows: 10\n",
      "Field names are:1, 33\n",
      "\n",
      "First 5 rows are:\n",
      "\n",
      "         2         50 \n",
      "\n",
      "         3         42 \n",
      "\n",
      "         4         21 \n",
      "\n",
      "         5         18 \n",
      "\n",
      "         6         45 \n",
      "\n"
     ]
    }
   ],
   "source": [
    "# importing csv module\n",
    "import csv\n",
    "  \n",
    "# csv file name\n",
    "filename = \"example_data.csv\"\n",
    "  \n",
    "# initializing the titles and rows list\n",
    "fields = []\n",
    "rows = []\n",
    "  \n",
    "# reading csv file\n",
    "with open(filename, 'r') as csvfile:\n",
    "    # creating a csv reader object\n",
    "    csvreader = csv.reader(csvfile)\n",
    "      \n",
    "    # extracting field names through first row\n",
    "    fields = next(csvreader)\n",
    "  \n",
    "    # extracting each data row one by one\n",
    "    for row in csvreader:\n",
    "        rows.append(row)\n",
    "  \n",
    "    # get total number of rows\n",
    "    print(\"Total no. of rows: %d\"%(csvreader.line_num))\n",
    "  \n",
    "# printing the field names\n",
    "print('Field names are:' + ', '.join(field for field in fields))\n",
    "  \n",
    "# printing first 5 rows\n",
    "print('\\nFirst 5 rows are:\\n')\n",
    "for row in rows[:5]:\n",
    "    # parsing each column of a row\n",
    "    for col in row:\n",
    "        print(\"%10s\"%col,end=\" \"),\n",
    "    print('\\n')"
   ]
  },
  {
   "cell_type": "code",
   "execution_count": null,
   "id": "cbdf166d",
   "metadata": {},
   "outputs": [],
   "source": []
  },
  {
   "cell_type": "code",
   "execution_count": null,
   "id": "081db155",
   "metadata": {},
   "outputs": [],
   "source": []
  },
  {
   "cell_type": "code",
   "execution_count": null,
   "id": "81a72980",
   "metadata": {},
   "outputs": [],
   "source": []
  },
  {
   "cell_type": "code",
   "execution_count": null,
   "id": "2d15d3ff",
   "metadata": {},
   "outputs": [],
   "source": []
  },
  {
   "cell_type": "code",
   "execution_count": null,
   "id": "be29d5c8",
   "metadata": {},
   "outputs": [],
   "source": []
  },
  {
   "cell_type": "code",
   "execution_count": null,
   "id": "19ceb0ea",
   "metadata": {},
   "outputs": [],
   "source": []
  },
  {
   "cell_type": "code",
   "execution_count": null,
   "id": "637691cd",
   "metadata": {},
   "outputs": [],
   "source": []
  },
  {
   "cell_type": "code",
   "execution_count": null,
   "id": "899146f9",
   "metadata": {},
   "outputs": [],
   "source": []
  },
  {
   "cell_type": "code",
   "execution_count": null,
   "id": "9b0bafab",
   "metadata": {},
   "outputs": [],
   "source": []
  }
 ],
 "metadata": {
  "kernelspec": {
   "display_name": "Python 3 (ipykernel)",
   "language": "python",
   "name": "python3"
  },
  "language_info": {
   "codemirror_mode": {
    "name": "ipython",
    "version": 3
   },
   "file_extension": ".py",
   "mimetype": "text/x-python",
   "name": "python",
   "nbconvert_exporter": "python",
   "pygments_lexer": "ipython3",
   "version": "3.10.4"
  }
 },
 "nbformat": 4,
 "nbformat_minor": 5
}
