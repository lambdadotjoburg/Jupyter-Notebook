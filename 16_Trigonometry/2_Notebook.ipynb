{
 "cells": [
  {
   "cell_type": "markdown",
   "id": "7f00bfc5",
   "metadata": {},
   "source": [
    "# Trigonometric Equations"
   ]
  },
  {
   "cell_type": "code",
   "execution_count": 9,
   "id": "2db4791a",
   "metadata": {},
   "outputs": [],
   "source": [
    "from sympy import *"
   ]
  },
  {
   "cell_type": "code",
   "execution_count": 10,
   "id": "948cf578",
   "metadata": {},
   "outputs": [],
   "source": [
    "theta, x, y = symbols('x, y, \\\\theta')"
   ]
  },
  {
   "cell_type": "code",
   "execution_count": 12,
   "id": "5130c27f",
   "metadata": {},
   "outputs": [],
   "source": [
    "expr = sin(x)"
   ]
  },
  {
   "cell_type": "code",
   "execution_count": 35,
   "id": "6c15d41f",
   "metadata": {},
   "outputs": [
    {
     "data": {
      "text/plain": [
       "0.933320523748862"
      ]
     },
     "execution_count": 35,
     "metadata": {},
     "output_type": "execute_result"
    }
   ],
   "source": [
    "float(expr.subs(x, 152))"
   ]
  },
  {
   "cell_type": "code",
   "execution_count": 124,
   "id": "a8a01d64",
   "metadata": {},
   "outputs": [
    {
     "data": {
      "text/latex": [
       "$\\displaystyle \\left(\\cos{\\left(x \\right)} - 1\\right)^{2}$"
      ],
      "text/plain": [
       "(cos(x) - 1)**2"
      ]
     },
     "execution_count": 124,
     "metadata": {},
     "output_type": "execute_result"
    }
   ],
   "source": [
    "trigsimp((cos(x))**2 - 2*(cos(x)) + 1)"
   ]
  },
  {
   "cell_type": "code",
   "execution_count": 34,
   "id": "fd649494",
   "metadata": {},
   "outputs": [
    {
     "data": {
      "text/latex": [
       "$\\displaystyle 1$"
      ],
      "text/plain": [
       "1"
      ]
     },
     "execution_count": 34,
     "metadata": {},
     "output_type": "execute_result"
    }
   ],
   "source": [
    "trigsimp((sin(x))**2+(cos(x))**2)"
   ]
  },
  {
   "cell_type": "code",
   "execution_count": 49,
   "id": "945def8b",
   "metadata": {},
   "outputs": [],
   "source": [
    "%reset -f"
   ]
  },
  {
   "cell_type": "code",
   "execution_count": 52,
   "id": "e958f61f",
   "metadata": {},
   "outputs": [],
   "source": [
    "from sympy import *\n",
    "from sympy import symbols, Eq, solve"
   ]
  },
  {
   "cell_type": "code",
   "execution_count": 54,
   "id": "4584728c",
   "metadata": {},
   "outputs": [],
   "source": [
    "x, y = symbols('x, y')"
   ]
  },
  {
   "cell_type": "code",
   "execution_count": 55,
   "id": "ef536437",
   "metadata": {},
   "outputs": [
    {
     "data": {
      "text/plain": [
       "{x: 2, y: 3}"
      ]
     },
     "execution_count": 55,
     "metadata": {},
     "output_type": "execute_result"
    }
   ],
   "source": [
    "eq1 = Eq(2*x - y - 1,0)\n",
    "eq2 = Eq(x + y - 5,0)\n",
    "\n",
    "sol = solve((eq1, eq2),(x, y))\n",
    "sol"
   ]
  },
  {
   "cell_type": "code",
   "execution_count": 97,
   "id": "3eb242a0",
   "metadata": {},
   "outputs": [],
   "source": [
    "%reset -f"
   ]
  },
  {
   "cell_type": "code",
   "execution_count": 98,
   "id": "e854c204",
   "metadata": {},
   "outputs": [],
   "source": [
    "from sympy import *\n",
    "from sympy import symbols, Eq, solve"
   ]
  },
  {
   "cell_type": "code",
   "execution_count": 99,
   "id": "7ca50daa",
   "metadata": {},
   "outputs": [],
   "source": [
    "x, y = symbols('x, y')"
   ]
  },
  {
   "cell_type": "code",
   "execution_count": 117,
   "id": "940c863f",
   "metadata": {},
   "outputs": [
    {
     "data": {
      "text/latex": [
       "$\\displaystyle \\left\\{- \\frac{3 \\pi}{2}, \\frac{\\pi}{2}\\right\\}$"
      ],
      "text/plain": [
       "{-3*pi/2, pi/2}"
      ]
     },
     "execution_count": 117,
     "metadata": {},
     "output_type": "execute_result"
    }
   ],
   "source": [
    "eq1 = Eq(sin(x),1)\n",
    "\n",
    "solrad = solveset(eq1,x, domain=Interval(-2*pi, 2*pi))\n",
    "solrad"
   ]
  },
  {
   "cell_type": "code",
   "execution_count": 120,
   "id": "30241acd",
   "metadata": {},
   "outputs": [],
   "source": [
    "def ConvertToDeg(lst):\n",
    "    return [ i*(360/(2*pi)) for i in lst ]"
   ]
  },
  {
   "cell_type": "code",
   "execution_count": 121,
   "id": "18bfbfd6",
   "metadata": {},
   "outputs": [
    {
     "data": {
      "text/plain": [
       "[-3*pi/2, pi/2]"
      ]
     },
     "execution_count": 121,
     "metadata": {},
     "output_type": "execute_result"
    }
   ],
   "source": [
    "solradmed = list(solrad)\n",
    "solradmed"
   ]
  },
  {
   "cell_type": "code",
   "execution_count": 122,
   "id": "2ee3a543",
   "metadata": {},
   "outputs": [
    {
     "data": {
      "text/plain": [
       "[-270, 90]"
      ]
     },
     "execution_count": 122,
     "metadata": {},
     "output_type": "execute_result"
    }
   ],
   "source": [
    "degsol = ConvertToDeg(solradmed)\n",
    "degsol"
   ]
  },
  {
   "cell_type": "code",
   "execution_count": null,
   "id": "a830c509",
   "metadata": {},
   "outputs": [],
   "source": []
  },
  {
   "cell_type": "code",
   "execution_count": 71,
   "id": "c00eed00",
   "metadata": {},
   "outputs": [],
   "source": [
    "%reset -f"
   ]
  },
  {
   "cell_type": "code",
   "execution_count": 72,
   "id": "21ae7dde",
   "metadata": {},
   "outputs": [],
   "source": [
    "from sympy import *\n",
    "from sympy import symbols, Eq, solve"
   ]
  },
  {
   "cell_type": "code",
   "execution_count": 73,
   "id": "353a53ed",
   "metadata": {},
   "outputs": [],
   "source": [
    "x, y = symbols('x, y')"
   ]
  },
  {
   "cell_type": "code",
   "execution_count": 74,
   "id": "f4d30a91",
   "metadata": {},
   "outputs": [
    {
     "data": {
      "text/latex": [
       "$\\displaystyle \\left\\{- \\frac{11 \\pi}{6}, - \\frac{7 \\pi}{6}, \\frac{\\pi}{6}, \\frac{5 \\pi}{6}\\right\\}$"
      ],
      "text/plain": [
       "{-11*pi/6, -7*pi/6, pi/6, 5*pi/6}"
      ]
     },
     "execution_count": 74,
     "metadata": {},
     "output_type": "execute_result"
    }
   ],
   "source": [
    "eq1 = Eq(2*sin(x),1)\n",
    "\n",
    "solrad = solveset(eq1,x, domain=Interval(-2*pi, 2*pi))\n",
    "solrad"
   ]
  },
  {
   "cell_type": "code",
   "execution_count": null,
   "id": "8eaa5d04",
   "metadata": {},
   "outputs": [],
   "source": []
  }
 ],
 "metadata": {
  "kernelspec": {
   "display_name": "Python 3 (ipykernel)",
   "language": "python",
   "name": "python3"
  },
  "language_info": {
   "codemirror_mode": {
    "name": "ipython",
    "version": 3
   },
   "file_extension": ".py",
   "mimetype": "text/x-python",
   "name": "python",
   "nbconvert_exporter": "python",
   "pygments_lexer": "ipython3",
   "version": "3.10.4"
  }
 },
 "nbformat": 4,
 "nbformat_minor": 5
}
