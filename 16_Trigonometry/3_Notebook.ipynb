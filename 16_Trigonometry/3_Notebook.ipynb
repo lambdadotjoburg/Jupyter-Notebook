{
 "cells": [
  {
   "cell_type": "markdown",
   "id": "33061d3e",
   "metadata": {},
   "source": [
    "# Trigonometric Equations"
   ]
  },
  {
   "cell_type": "code",
   "execution_count": 1,
   "id": "b7f4e248",
   "metadata": {},
   "outputs": [],
   "source": [
    "%reset -f\n",
    "\n",
    "import numpy as np\n",
    "from sympy import *\n",
    "from sympy import symbols, Eq, solve\n",
    "\n",
    "x, y = symbols('x, y')"
   ]
  },
  {
   "cell_type": "markdown",
   "id": "9c12ece3",
   "metadata": {},
   "source": [
    "Verify that $180^o$ is a zero of $ \\sin(x)=0 $"
   ]
  },
  {
   "cell_type": "code",
   "execution_count": 2,
   "id": "55562458",
   "metadata": {},
   "outputs": [
    {
     "data": {
      "text/latex": [
       "$\\displaystyle 0$"
      ],
      "text/plain": [
       "0"
      ]
     },
     "execution_count": 2,
     "metadata": {},
     "output_type": "execute_result"
    }
   ],
   "source": [
    "deg = 180\n",
    "\n",
    "rads = deg*(2*pi/360)\n",
    "\n",
    "sin(x).subs(x, rads)"
   ]
  },
  {
   "cell_type": "markdown",
   "id": "92a4ecb4",
   "metadata": {},
   "source": [
    "$$ \\cos^2(x) -2 \\cos(x) + 1 = (\\cos(x)-1)^2 $$"
   ]
  },
  {
   "cell_type": "code",
   "execution_count": 3,
   "id": "5127ff36",
   "metadata": {},
   "outputs": [
    {
     "data": {
      "text/latex": [
       "$\\displaystyle \\left(\\cos{\\left(x \\right)} - 1\\right)^{2}$"
      ],
      "text/plain": [
       "(cos(x) - 1)**2"
      ]
     },
     "execution_count": 3,
     "metadata": {},
     "output_type": "execute_result"
    }
   ],
   "source": [
    "trigsimp((cos(x))**2 - 2*(cos(x)) + 1)"
   ]
  },
  {
   "cell_type": "markdown",
   "id": "4133a7d9",
   "metadata": {},
   "source": [
    "$$ \\sin^2(x) + \\cos^2(x) = 1 $$"
   ]
  },
  {
   "cell_type": "code",
   "execution_count": 4,
   "id": "958a0447",
   "metadata": {},
   "outputs": [
    {
     "data": {
      "text/latex": [
       "$\\displaystyle 1$"
      ],
      "text/plain": [
       "1"
      ]
     },
     "execution_count": 4,
     "metadata": {},
     "output_type": "execute_result"
    }
   ],
   "source": [
    "trigsimp((sin(x))**2+(cos(x))**2)"
   ]
  },
  {
   "cell_type": "markdown",
   "id": "8eed534e",
   "metadata": {},
   "source": [
    "Solve the equation $ \\sin(x) = 1 $ within the interval $(-360^o, 360^o)$"
   ]
  },
  {
   "cell_type": "code",
   "execution_count": 5,
   "id": "65c8806e",
   "metadata": {},
   "outputs": [
    {
     "data": {
      "text/latex": [
       "$\\displaystyle \\left\\{- \\frac{3 \\pi}{2}, \\frac{\\pi}{2}\\right\\}$"
      ],
      "text/plain": [
       "{-3*pi/2, pi/2}"
      ]
     },
     "execution_count": 5,
     "metadata": {},
     "output_type": "execute_result"
    }
   ],
   "source": [
    "eq1 = Eq(sin(x),1)\n",
    "\n",
    "solrad = solveset(eq1,x, domain=Interval(-2*pi, 2*pi))\n",
    "solrad"
   ]
  },
  {
   "cell_type": "markdown",
   "id": "5e6c6e93",
   "metadata": {},
   "source": [
    "Convert solution set to a list:"
   ]
  },
  {
   "cell_type": "code",
   "execution_count": 6,
   "id": "2a448df6",
   "metadata": {},
   "outputs": [
    {
     "data": {
      "text/plain": [
       "[-3*pi/2, pi/2]"
      ]
     },
     "execution_count": 6,
     "metadata": {},
     "output_type": "execute_result"
    }
   ],
   "source": [
    "solradmed = list(solrad)\n",
    "solradmed"
   ]
  },
  {
   "cell_type": "markdown",
   "id": "1ffc5195",
   "metadata": {},
   "source": [
    "Define a function to convert each solution in radians to a value in degrees:"
   ]
  },
  {
   "cell_type": "code",
   "execution_count": 7,
   "id": "4d6e5f67",
   "metadata": {},
   "outputs": [],
   "source": [
    "def ConvertToDeg(lst):\n",
    "    return [ i*(360/(2*pi)) for i in lst ]"
   ]
  },
  {
   "cell_type": "markdown",
   "id": "83dbb939",
   "metadata": {},
   "source": [
    "Print solutions in a list:"
   ]
  },
  {
   "cell_type": "code",
   "execution_count": 8,
   "id": "80a976c3",
   "metadata": {},
   "outputs": [
    {
     "data": {
      "text/plain": [
       "[-270, 90]"
      ]
     },
     "execution_count": 8,
     "metadata": {},
     "output_type": "execute_result"
    }
   ],
   "source": [
    "degsol = ConvertToDeg(solradmed)\n",
    "degsol"
   ]
  },
  {
   "cell_type": "markdown",
   "id": "76dccff0",
   "metadata": {},
   "source": [
    "# Solve Trigonometric Equations (in Degrees)"
   ]
  },
  {
   "cell_type": "markdown",
   "id": "0bb64886",
   "metadata": {},
   "source": [
    "Determine the general solution of $ \\sin(\\theta) = \\frac{1}{2} $ (correct to the nearest degree)"
   ]
  },
  {
   "cell_type": "code",
   "execution_count": 9,
   "id": "8a9d0968",
   "metadata": {},
   "outputs": [
    {
     "data": {
      "text/plain": [
       "0.5235987755982989"
      ]
     },
     "execution_count": 9,
     "metadata": {},
     "output_type": "execute_result"
    }
   ],
   "source": [
    "rads = np.arcsin(1/2)\n",
    "rads"
   ]
  },
  {
   "cell_type": "code",
   "execution_count": 10,
   "id": "d7909198",
   "metadata": {},
   "outputs": [
    {
     "data": {
      "text/plain": [
       "30"
      ]
     },
     "execution_count": 10,
     "metadata": {},
     "output_type": "execute_result"
    }
   ],
   "source": [
    "degs = rads*(360/(2*np.pi))\n",
    "\n",
    "dec = float(degs)\n",
    "\n",
    "answ = round(dec)\n",
    "\n",
    "answ"
   ]
  },
  {
   "cell_type": "markdown",
   "id": "f053151b",
   "metadata": {},
   "source": [
    "Determine the solution in the interval [-360;360]"
   ]
  },
  {
   "cell_type": "markdown",
   "id": "53a50d04",
   "metadata": {},
   "source": [
    "### Example 1 (p 203)\n",
    "\n",
    "Solve $\\sin(x) = - \\frac{1}{2}$"
   ]
  },
  {
   "cell_type": "code",
   "execution_count": 11,
   "id": "17d86c17",
   "metadata": {},
   "outputs": [
    {
     "data": {
      "text/plain": [
       "-30"
      ]
     },
     "execution_count": 11,
     "metadata": {},
     "output_type": "execute_result"
    }
   ],
   "source": [
    "rads = np.arcsin(-1/2)\n",
    "\n",
    "degs = rads*(360/(2*np.pi))\n",
    "\n",
    "dec = float(degs)\n",
    "\n",
    "answ = round(dec)\n",
    "\n",
    "answ"
   ]
  },
  {
   "cell_type": "markdown",
   "id": "642ee2fd",
   "metadata": {},
   "source": [
    "$$ x = -30 + 360^o \\times k; \\quad \\quad k \\in \\mathbb{Z} $$"
   ]
  },
  {
   "cell_type": "markdown",
   "id": "dffd7a34",
   "metadata": {},
   "source": [
    "### Interpretation of (General Solution)"
   ]
  },
  {
   "cell_type": "code",
   "execution_count": 12,
   "id": "7fe6d23f",
   "metadata": {},
   "outputs": [],
   "source": [
    "%reset -f"
   ]
  },
  {
   "cell_type": "code",
   "execution_count": 13,
   "id": "c184b0f1",
   "metadata": {},
   "outputs": [],
   "source": [
    "import matplotlib.pyplot as plt\n",
    "import numpy as np"
   ]
  },
  {
   "cell_type": "code",
   "execution_count": 14,
   "id": "708d45ef",
   "metadata": {},
   "outputs": [
    {
     "data": {
      "image/png": "[encoded data removed]",
      "text/plain": [
       "<Figure size 1440x576 with 1 Axes>"
      ]
     },
     "metadata": {
      "needs_background": "light"
     },
     "output_type": "display_data"
    }
   ],
   "source": [
    "x = np.linspace(-2*np.pi, 2*np.pi, 1000)\n",
    "\n",
    "def f(x):\n",
    "    return np.sin(x)\n",
    "\n",
    "fig = plt.figure(figsize=(20,8))\n",
    "\n",
    "ax = fig.add_subplot(1, 1, 1)\n",
    "\n",
    "# Move left y-axis and bottim x-axis to centre, passing through (0,0)\n",
    "ax.spines['left'].set_position('zero')\n",
    "ax.spines['bottom'].set_position('zero')\n",
    "\n",
    "# Eliminate upper and right axes\n",
    "ax.spines['right'].set_color('none')\n",
    "ax.spines['top'].set_color('none')\n",
    "\n",
    "# Show ticks in the left and lower axes only\n",
    "ax.xaxis.set_ticks_position('bottom')\n",
    "ax.yaxis.set_ticks_position('left')\n",
    "\n",
    "ax.set_xticks([-np.pi/6], ['-30'], fontsize=11)\n",
    "\n",
    "plt.xlabel(\"x\", loc='right', fontsize=20)\n",
    "plt.ylabel(\"y\", loc='top', rotation=0, fontsize=20)\n",
    "\n",
    "plt.rcParams['axes.grid'] = True\n",
    "\n",
    "plt.axhline(y=-0.5, color='r', linestyle='-')\n",
    "\n",
    "plt.plot(x, f(x))\n",
    "\n",
    "plt.show()"
   ]
  },
  {
   "cell_type": "code",
   "execution_count": 15,
   "id": "fb9f696b",
   "metadata": {},
   "outputs": [],
   "source": [
    "%reset -f\n",
    "\n",
    "import numpy as np\n",
    "from sympy import *\n",
    "from sympy import symbols, Eq, solve\n",
    "\n",
    "x, y = symbols('x, y')"
   ]
  },
  {
   "cell_type": "markdown",
   "id": "b2f686f7",
   "metadata": {},
   "source": [
    "### Example 2 (p 205)"
   ]
  },
  {
   "cell_type": "markdown",
   "id": "4fa35a32",
   "metadata": {},
   "source": [
    "(a) Determine the solution of $\\sin(x) = -0.47$ (to the nearest degree)"
   ]
  },
  {
   "cell_type": "code",
   "execution_count": 16,
   "id": "c21f7129",
   "metadata": {},
   "outputs": [
    {
     "data": {
      "text/plain": [
       "-28"
      ]
     },
     "execution_count": 16,
     "metadata": {},
     "output_type": "execute_result"
    }
   ],
   "source": [
    "rads = np.arcsin(-0.47)\n",
    "\n",
    "degs = rads*(360/(2*np.pi))\n",
    "\n",
    "dec = float(degs)\n",
    "\n",
    "answ = round(dec)\n",
    "\n",
    "answ"
   ]
  },
  {
   "cell_type": "markdown",
   "id": "6d677bf7",
   "metadata": {},
   "source": [
    "$$ x = -28 + 360^o \\times k; \\quad \\quad k \\in \\mathbb{Z} $$"
   ]
  },
  {
   "cell_type": "markdown",
   "id": "ce82f1c6",
   "metadata": {},
   "source": [
    "(b) Determine the solution in the interval $[-360^o; 360^o]$"
   ]
  },
  {
   "cell_type": "code",
   "execution_count": 17,
   "id": "8de40cc8",
   "metadata": {},
   "outputs": [
    {
     "data": {
      "text/latex": [
       "$\\displaystyle \\left\\{-0.489290778014116, -0.489290778014116 + 2 \\pi, 0.489290778014116 - \\pi, 0.489290778014116 + \\pi\\right\\}$"
      ],
      "text/plain": [
       "{-0.489290778014116, -0.489290778014116 + 2*pi, 0.489290778014116 - pi, 0.489290778014116 + pi}"
      ]
     },
     "execution_count": 17,
     "metadata": {},
     "output_type": "execute_result"
    }
   ],
   "source": [
    "eq1 = Eq(sin(x),-0.47)\n",
    "\n",
    "solrad = solveset(eq1,x, domain=Interval(-2*pi, 2*pi))\n",
    "solrad"
   ]
  },
  {
   "cell_type": "code",
   "execution_count": 18,
   "id": "341bf8f5",
   "metadata": {},
   "outputs": [
    {
     "data": {
      "text/plain": [
       "[-0.489290778014116,\n",
       " 0.489290778014116 + pi,\n",
       " -0.489290778014116 + 2*pi,\n",
       " 0.489290778014116 - pi]"
      ]
     },
     "execution_count": 18,
     "metadata": {},
     "output_type": "execute_result"
    }
   ],
   "source": [
    "solradmed = list(solrad)\n",
    "solradmed"
   ]
  },
  {
   "cell_type": "code",
   "execution_count": 19,
   "id": "ee0b8862",
   "metadata": {},
   "outputs": [],
   "source": [
    "def SimplifyElements(lst):\n",
    "    return [ float(i) for i in lst]"
   ]
  },
  {
   "cell_type": "code",
   "execution_count": 20,
   "id": "b51d70d2",
   "metadata": {},
   "outputs": [
    {
     "data": {
      "text/plain": [
       "[-0.4892907780141157, 3.630883431603909, 5.79389452916547, -2.6523018755756773]"
      ]
     },
     "execution_count": 20,
     "metadata": {},
     "output_type": "execute_result"
    }
   ],
   "source": [
    "solradfloat = SimplifyElements(solradmed)\n",
    "solradfloat"
   ]
  },
  {
   "cell_type": "code",
   "execution_count": 21,
   "id": "78caa41e",
   "metadata": {},
   "outputs": [],
   "source": [
    "def ConvertToDeg(lst):\n",
    "    return [ round(i*(360/(2*pi))) for i in lst ]"
   ]
  },
  {
   "cell_type": "code",
   "execution_count": 22,
   "id": "b3dc68d8",
   "metadata": {},
   "outputs": [
    {
     "data": {
      "text/plain": [
       "[-28, 208, 332, -152]"
      ]
     },
     "execution_count": 22,
     "metadata": {},
     "output_type": "execute_result"
    }
   ],
   "source": [
    "ConvertToDeg(solradfloat)"
   ]
  },
  {
   "cell_type": "code",
   "execution_count": 23,
   "id": "8c9d9f3a",
   "metadata": {},
   "outputs": [],
   "source": [
    "%reset -f\n",
    "\n",
    "import numpy as np\n",
    "from sympy import *\n",
    "from sympy import symbols, Eq, solve\n",
    "\n",
    "x, y = symbols('x, y')"
   ]
  },
  {
   "cell_type": "markdown",
   "id": "ecda7fa2",
   "metadata": {},
   "source": [
    "### Example 3 (p 205)"
   ]
  },
  {
   "cell_type": "markdown",
   "id": "d62a52a5",
   "metadata": {},
   "source": [
    "Given the equation $2 \\cos(x) = - \\sqrt{2}$, determine:\n",
    "\n",
    "(a) the general solution;"
   ]
  },
  {
   "cell_type": "code",
   "execution_count": 24,
   "id": "07849cf7",
   "metadata": {},
   "outputs": [
    {
     "data": {
      "text/plain": [
       "135"
      ]
     },
     "execution_count": 24,
     "metadata": {},
     "output_type": "execute_result"
    }
   ],
   "source": [
    "rads = np.arccos(-np.sqrt(2)/2)\n",
    "\n",
    "degs = rads*(360/(2*np.pi))\n",
    "\n",
    "dec = float(degs)\n",
    "\n",
    "answ = round(dec)\n",
    "\n",
    "answ"
   ]
  },
  {
   "cell_type": "markdown",
   "id": "6b2d20d9",
   "metadata": {},
   "source": [
    "The reference angle is $45^o$"
   ]
  },
  {
   "cell_type": "code",
   "execution_count": 25,
   "id": "81ea02fc",
   "metadata": {},
   "outputs": [
    {
     "data": {
      "text/plain": [
       "45"
      ]
     },
     "execution_count": 25,
     "metadata": {},
     "output_type": "execute_result"
    }
   ],
   "source": [
    "rads = np.arccos(np.sqrt(2)/2)\n",
    "\n",
    "degs = rads*(360/(2*np.pi))\n",
    "\n",
    "dec = float(degs)\n",
    "\n",
    "answ = round(dec)\n",
    "\n",
    "answ"
   ]
  },
  {
   "cell_type": "markdown",
   "id": "ce18e7d4",
   "metadata": {},
   "source": [
    "The General Solution is given by:\n",
    "\n",
    "\n",
    "$x = (180^o+45^o) + 360^o \\times k \\quad \\quad k \\in \\mathbb{Z} \\quad \\quad \\implies \\quad \\quad x = 225^o + 360^o \\times k \\quad \\quad k \\in \\mathbb{Z}$\n",
    "\n",
    "and \n",
    "\n",
    "$x = (180^o-45^o) + 360^o \\times k \\quad \\quad k \\in \\mathbb{Z} \\quad \\quad \\implies \\quad \\quad x = 135^o + 360^o \\times k \\quad \\quad k \\in \\mathbb{Z}$"
   ]
  },
  {
   "cell_type": "markdown",
   "id": "4b9fa4af",
   "metadata": {},
   "source": [
    "(b) solution in the interval $[-180^o, 180^o]$"
   ]
  },
  {
   "cell_type": "code",
   "execution_count": 26,
   "id": "8f48a084",
   "metadata": {},
   "outputs": [],
   "source": [
    "from sympy import symbols, Eq, solve"
   ]
  },
  {
   "cell_type": "code",
   "execution_count": 27,
   "id": "108dee8a",
   "metadata": {},
   "outputs": [
    {
     "data": {
      "text/plain": [
       "[135, -135]"
      ]
     },
     "execution_count": 27,
     "metadata": {},
     "output_type": "execute_result"
    }
   ],
   "source": [
    "eq1 = Eq(cos(x),-np.sqrt(2)/2)\n",
    "\n",
    "solrad = solveset(eq1,x, domain=Interval(-pi, pi))\n",
    "\n",
    "solradmed = list(solrad)\n",
    "\n",
    "def SimplifyElements(lst):\n",
    "    return [ float(i) for i in lst]\n",
    "\n",
    "solradfloat = SimplifyElements(solradmed)\n",
    "\n",
    "def ConvertToDeg(lst):\n",
    "    return [ round(i*(360/(2*pi))) for i in lst ]\n",
    "\n",
    "ConvertToDeg(solradfloat)"
   ]
  },
  {
   "cell_type": "markdown",
   "id": "0cb9e425",
   "metadata": {},
   "source": [
    "### Interpretation of Solution within a given Interval"
   ]
  },
  {
   "cell_type": "code",
   "execution_count": 28,
   "id": "13bc4912",
   "metadata": {},
   "outputs": [],
   "source": [
    "%reset -f"
   ]
  },
  {
   "cell_type": "code",
   "execution_count": 29,
   "id": "e509a2a4",
   "metadata": {},
   "outputs": [],
   "source": [
    "import matplotlib.pyplot as plt\n",
    "import numpy as np"
   ]
  },
  {
   "cell_type": "code",
   "execution_count": 30,
   "id": "314fdf5e",
   "metadata": {},
   "outputs": [
    {
     "data": {
      "image/png": "[encoded data removed]",
      "text/plain": [
       "<Figure size 1440x576 with 1 Axes>"
      ]
     },
     "metadata": {
      "needs_background": "light"
     },
     "output_type": "display_data"
    }
   ],
   "source": [
    "x = np.linspace(-np.pi, np.pi, 1000)\n",
    "\n",
    "def f(x):\n",
    "    return np.cos(x)\n",
    "\n",
    "fig = plt.figure(figsize=(20,8))\n",
    "\n",
    "ax = fig.add_subplot(1, 1, 1)\n",
    "\n",
    "# Move left y-axis and bottim x-axis to centre, passing through (0,0)\n",
    "ax.spines['left'].set_position('zero')\n",
    "ax.spines['bottom'].set_position('zero')\n",
    "\n",
    "# Eliminate upper and right axes\n",
    "ax.spines['right'].set_color('none')\n",
    "ax.spines['top'].set_color('none')\n",
    "\n",
    "# Show ticks in the left and lower axes only\n",
    "ax.xaxis.set_ticks_position('bottom')\n",
    "ax.yaxis.set_ticks_position('left')\n",
    "\n",
    "ax.set_xticks([-(np.pi - np.pi/4), (np.pi - np.pi/4)], ['-135', '135'], fontsize=11)\n",
    "\n",
    "plt.xlabel(\"x\", loc='right', fontsize=20)\n",
    "plt.ylabel(\"y\", loc='top', rotation=0, fontsize=20)\n",
    "\n",
    "plt.rcParams['axes.grid'] = True\n",
    "\n",
    "plt.axhline(y=-np.sqrt(2)/2, color='r', linestyle='-')\n",
    "\n",
    "plt.plot(x, f(x))\n",
    "\n",
    "plt.show()"
   ]
  },
  {
   "cell_type": "markdown",
   "id": "b0814590",
   "metadata": {},
   "source": [
    "### Example 4 (p 205)"
   ]
  },
  {
   "cell_type": "markdown",
   "id": "0f9d9b09",
   "metadata": {},
   "source": [
    "Determine, correct to the nearest degree, the solution of $\\tan(2x) = -2.147$ for $[0^o;360^o]$"
   ]
  },
  {
   "cell_type": "code",
   "execution_count": 37,
   "id": "ab2571b0",
   "metadata": {},
   "outputs": [],
   "source": [
    "%reset -f\n",
    "\n",
    "import numpy as np\n",
    "from sympy import *\n",
    "from sympy import symbols, Eq, solve\n",
    "\n",
    "x, y = symbols('x, y')"
   ]
  },
  {
   "cell_type": "code",
   "execution_count": 38,
   "id": "abdf0a0d",
   "metadata": {},
   "outputs": [
    {
     "data": {
      "text/plain": [
       "[147, 57, 237, 327]"
      ]
     },
     "execution_count": 38,
     "metadata": {},
     "output_type": "execute_result"
    }
   ],
   "source": [
    "eq1 = Eq(tan(2*x),-2.147)\n",
    "\n",
    "solrad = solveset(eq1,x, domain=Interval(0, 2*pi))\n",
    "\n",
    "solradmed = list(solrad)\n",
    "\n",
    "def SimplifyElements(lst):\n",
    "    return [ float(i) for i in lst]\n",
    "\n",
    "solradfloat = SimplifyElements(solradmed)\n",
    "\n",
    "def ConvertToDeg(lst):\n",
    "    return [ round(i*(360/(2*pi))) for i in lst ]\n",
    "\n",
    "ConvertToDeg(solradfloat)"
   ]
  },
  {
   "cell_type": "markdown",
   "id": "1f430644",
   "metadata": {},
   "source": [
    "# Homework: Exercise 7.10 p 206"
   ]
  }
 ],
 "metadata": {
  "kernelspec": {
   "display_name": "Python 3 (ipykernel)",
   "language": "python",
   "name": "python3"
  },
  "language_info": {
   "codemirror_mode": {
    "name": "ipython",
    "version": 3
   },
   "file_extension": ".py",
   "mimetype": "text/x-python",
   "name": "python",
   "nbconvert_exporter": "python",
   "pygments_lexer": "ipython3",
   "version": "3.10.4"
  }
 },
 "nbformat": 4,
 "nbformat_minor": 5
}
