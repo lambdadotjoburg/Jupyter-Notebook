{
 "cells": [
  {
   "cell_type": "code",
   "execution_count": 1,
   "id": "b14f20d4",
   "metadata": {},
   "outputs": [
    {
     "name": "stdout",
     "output_type": "stream",
     "text": [
      "This is a demo file to demonstrate the open() and read() function in Python within the same directory!!!\n",
      "This is a demo file to demonstrate the open() and read() function in Python within a subdirectory!!!\n",
      "This is a demo file to demonstrate the open() and read() function in Python within a superdirectory!!!\n"
     ]
    }
   ],
   "source": [
    "f = open(\"C:\\\\Users\\\\Frank\\\\Documents\\\\Python\\\\01_File_Readers\\\\1.6_File_Reader\\\\Superdirectory\\\\Directory\\\\demofile.txt\", \"r\")\n",
    "print(f.read())\n",
    "\n",
    "g = open(\"C:\\\\Users\\\\Frank\\\\Documents\\\\Python\\\\01_File_Readers\\\\1.6_File_Reader\\\\Superdirectory\\\\Directory\\\\Subdirectory\\\\demofilesubdirectory.txt\", \"r\")\n",
    "print(g.read())\n",
    "\n",
    "h = open(\"C:\\\\Users\\\\Frank\\\\Documents\\\\Python\\\\01_File_Readers\\\\1.6_File_Reader\\\\Superdirectory\\\\demofilesuperdirectory.txt\", \"r\")\n",
    "print(h.read())"
   ]
  },
  {
   "cell_type": "code",
   "execution_count": 2,
   "id": "f06769da",
   "metadata": {},
   "outputs": [],
   "source": [
    "\n",
    "def replace_line(file_name, line_num, text):\n",
    "    lines = open(file_name, 'r').readlines()\n",
    "    lines[line_num] = text\n",
    "    out = open(file_name, 'w')\n",
    "    out.writelines(lines)\n",
    "    out.close()"
   ]
  },
  {
   "cell_type": "code",
   "execution_count": 3,
   "id": "eb84c078",
   "metadata": {},
   "outputs": [
    {
     "name": "stdout",
     "output_type": "stream",
     "text": [
      "Koospiet\n"
     ]
    }
   ],
   "source": [
    "person = input()\n",
    "\n",
    "replace_line('C:\\\\Users\\\\Frank\\\\Documents\\\\Python\\\\01_File_Readers\\\\1.6_File_Reader\\\\Superdirectory\\\\Directory\\\\testfile.txt', 4, '4) ' + person)"
   ]
  },
  {
   "cell_type": "code",
   "execution_count": 6,
   "id": "aa241662",
   "metadata": {},
   "outputs": [],
   "source": [
    "title = '\\\\title{0de Document}' + '\\n'\n",
    "\n",
    "replace_line('C:\\\\Users\\\\Frank\\\\Documents\\\\Python\\\\01_File_Readers\\\\1.6_File_Reader\\\\Superdirectory\\\\Directory\\\\Test.tex', 3, title)"
   ]
  },
  {
   "cell_type": "code",
   "execution_count": 7,
   "id": "d26b4351",
   "metadata": {},
   "outputs": [
    {
     "data": {
      "text/plain": [
       "0"
      ]
     },
     "execution_count": 7,
     "metadata": {},
     "output_type": "execute_result"
    }
   ],
   "source": [
    "import os  \n",
    "\n",
    "os.system(\"pdflatex Test.tex\")"
   ]
  },
  {
   "cell_type": "code",
   "execution_count": null,
   "id": "77a7a76f",
   "metadata": {},
   "outputs": [],
   "source": []
  }
 ],
 "metadata": {
  "interpreter": {
   "hash": "48ee2bf33b2352c788f912dcbd443677a6d486fb07c682736af629314ae144f2"
  },
  "kernelspec": {
   "display_name": "Python 3 (ipykernel)",
   "language": "python",
   "name": "python3"
  },
  "language_info": {
   "codemirror_mode": {
    "name": "ipython",
    "version": 3
   },
   "file_extension": ".py",
   "mimetype": "text/x-python",
   "name": "python",
   "nbconvert_exporter": "python",
   "pygments_lexer": "ipython3",
   "version": "3.10.4"
  }
 },
 "nbformat": 4,
 "nbformat_minor": 5
}
