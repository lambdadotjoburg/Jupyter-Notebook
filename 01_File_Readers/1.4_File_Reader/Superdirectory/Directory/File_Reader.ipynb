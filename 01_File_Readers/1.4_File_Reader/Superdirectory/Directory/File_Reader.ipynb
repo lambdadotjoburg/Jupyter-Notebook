{
 "cells": [
  {
   "cell_type": "code",
   "execution_count": 1,
   "id": "c640494e",
   "metadata": {},
   "outputs": [
    {
     "name": "stdout",
     "output_type": "stream",
     "text": [
      "6\n",
      "Springs Boys High School\n",
      "Grade 11 Mathematics\n",
      "Controlled Test Paper 2\n",
      "June 2022\n",
      "Examinator: Mr. Wessels Total: 100 Marks\n",
      "Moderator: Mr. Ratsela & Mrs. Reynecke Duration: 2 hours\n",
      "Name:\n",
      "Teacher:\n",
      "Instructions:\n",
      "‹\n",
      "Answer all the questions.\n",
      "‹\n",
      "Write neatly and legibly.\n",
      "‹\n",
      "Write your name at the top of your answer sheet.\n",
      "‹\n",
      "Indicate your class teachers' code at the top of your answer sheet.\n",
      "‹\n",
      "Label the questions according to the numbering used on the question paper.\n",
      "‹\n",
      "Leave answers in simplest root form or two decimal places unless otherwise stated.\n",
      "‹\n",
      "Show all calculations. Answer only will not necessarily get full marks.\n",
      "‹\n",
      "Clearly indicate your class and write your name on your question paper.\n",
      "‹\n",
      "The use of a non-programmable calculator is permitted, unless otherwise stated.\n",
      "‹\n",
      "This assessment contains 6 pages (including the cover page) and 3 questions.\n",
      "Page 1 of 6\n",
      "\n"
     ]
    }
   ],
   "source": [
    "# importing required modules\n",
    "import PyPDF2\n",
    " \n",
    "# creating a pdf file object\n",
    "pdfFileObj = open('C:\\\\Users\\\\Frank\\\\Documents\\\\Python\\\\01_File_Readers\\\\1.2_File_Reader\\\\Superdirectory\\\\Directory\\\\test.pdf', 'rb')\n",
    " \n",
    "# creating a pdf reader object\n",
    "pdfReader = PyPDF2.PdfFileReader(pdfFileObj)\n",
    " \n",
    "# printing number of pages in pdf file\n",
    "print(pdfReader.numPages)\n",
    " \n",
    "# creating a page object\n",
    "pageObj = pdfReader.getPage(0)\n",
    " \n",
    "# extracting text from page\n",
    "print(pageObj.extractText())\n",
    " \n",
    "# closing the pdf file object\n",
    "pdfFileObj.close()"
   ]
  },
  {
   "cell_type": "code",
   "execution_count": null,
   "id": "3338d9c0",
   "metadata": {},
   "outputs": [],
   "source": []
  }
 ],
 "metadata": {
  "kernelspec": {
   "display_name": "Python 3 (ipykernel)",
   "language": "python",
   "name": "python3"
  },
  "language_info": {
   "codemirror_mode": {
    "name": "ipython",
    "version": 3
   },
   "file_extension": ".py",
   "mimetype": "text/x-python",
   "name": "python",
   "nbconvert_exporter": "python",
   "pygments_lexer": "ipython3",
   "version": "3.10.4"
  }
 },
 "nbformat": 4,
 "nbformat_minor": 5
}
