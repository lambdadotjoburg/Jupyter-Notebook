{
 "cells": [
  {
   "cell_type": "code",
   "execution_count": 32,
   "id": "b14f20d4",
   "metadata": {},
   "outputs": [
    {
     "name": "stdout",
     "output_type": "stream",
     "text": [
      "This is a demo file to demonstrate the open() and read() function in Python within the same directory!!!\n",
      "This is a demo file to demonstrate the open() and read() function in Python within a subdirectory!!!\n",
      "This is a demo file to demonstrate the open() and read() function in Python within a superdirectory!!!\n"
     ]
    }
   ],
   "source": [
    "f = open(\"C:\\\\Users\\\\Frank\\\\Documents\\\\Python\\\\01_File_Readers\\\\1.6_File_Reader\\\\Superdirectory\\\\Directory\\\\demofile.txt\", \"r\")\n",
    "print(f.read())\n",
    "\n",
    "g = open(\"C:\\\\Users\\\\Frank\\\\Documents\\\\Python\\\\01_File_Readers\\\\1.6_File_Reader\\\\Superdirectory\\\\Directory\\\\Subdirectory\\\\demofilesubdirectory.txt\", \"r\")\n",
    "print(g.read())\n",
    "\n",
    "h = open(\"C:\\\\Users\\\\Frank\\\\Documents\\\\Python\\\\01_File_Readers\\\\1.6_File_Reader\\\\Superdirectory\\\\demofilesuperdirectory.txt\", \"r\")\n",
    "print(h.read())"
   ]
  },
  {
   "cell_type": "code",
   "execution_count": 33,
   "id": "f06769da",
   "metadata": {},
   "outputs": [],
   "source": [
    "def replace_line(file_name, line_num, text):\n",
    "    lines = open(file_name, 'r').readlines()\n",
    "    lines[line_num] = text\n",
    "    out = open(file_name, 'w')\n",
    "    out.writelines(lines)\n",
    "    out.close()"
   ]
  },
  {
   "cell_type": "code",
   "execution_count": 34,
   "id": "12f73243",
   "metadata": {},
   "outputs": [
    {
     "name": "stdout",
     "output_type": "stream",
     "text": [
      "Koos\n"
     ]
    }
   ],
   "source": [
    "person = input()\n",
    "\n",
    "replace_line(\"C:\\\\Users\\\\Frank\\\\Documents\\\\Python\\\\01_File_Readers\\\\1.6_File_Reader\\\\Superdirectory\\\\Directory\\\\testfile.txt\", 4, '4) ' + person)"
   ]
  },
  {
   "cell_type": "code",
   "execution_count": null,
   "id": "ab6d7059",
   "metadata": {},
   "outputs": [],
   "source": []
  }
 ],
 "metadata": {
  "kernelspec": {
   "display_name": "Python 3 (ipykernel)",
   "language": "python",
   "name": "python3"
  },
  "language_info": {
   "codemirror_mode": {
    "name": "ipython",
    "version": 3
   },
   "file_extension": ".py",
   "mimetype": "text/x-python",
   "name": "python",
   "nbconvert_exporter": "python",
   "pygments_lexer": "ipython3",
   "version": "3.10.4"
  }
 },
 "nbformat": 4,
 "nbformat_minor": 5
}
