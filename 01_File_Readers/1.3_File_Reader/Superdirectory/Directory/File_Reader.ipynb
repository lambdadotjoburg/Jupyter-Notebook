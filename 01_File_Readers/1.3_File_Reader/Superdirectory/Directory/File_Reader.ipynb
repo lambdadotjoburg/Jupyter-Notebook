{
 "cells": [
  {
   "cell_type": "code",
   "execution_count": 31,
   "id": "95cecc7b",
   "metadata": {},
   "outputs": [
    {
     "name": "stdout",
     "output_type": "stream",
     "text": [
      "Hello. This is a word document to test whether it would be a good way to upload to database with graphs and equations, etc.\n"
     ]
    }
   ],
   "source": [
    "import docx2txt\n",
    " \n",
    "f = docx2txt.process(\"C:\\\\Users\\\\Frank\\\\Documents\\\\Python\\\\01_File_Readers\\\\1.3_File_Reader\\\\Superdirectory\\\\Directory\\\\test.docx\")\n",
    "\n",
    "print(f)"
   ]
  },
  {
   "cell_type": "code",
   "execution_count": 32,
   "id": "7ff88983",
   "metadata": {},
   "outputs": [
    {
     "name": "stdout",
     "output_type": "stream",
     "text": [
      "This is a demo file to demonstrate the open() and read() function in Python within the same directory!!!\n"
     ]
    }
   ],
   "source": [
    "f = open(\"C:\\\\Users\\\\Frank\\\\Documents\\\\Python\\\\01_File_Readers\\\\1.2_File_Reader\\\\Superdirectory\\\\Directory\\\\demofile.txt\", \"r\")\n",
    "\n",
    "print(f.read())"
   ]
  },
  {
   "cell_type": "code",
   "execution_count": 45,
   "id": "424eac54",
   "metadata": {},
   "outputs": [
    {
     "name": "stdout",
     "output_type": "stream",
     "text": [
      "enter a word you want to search in file: word\n",
      "word not found\n"
     ]
    }
   ],
   "source": [
    "with open('C:\\\\Users\\\\Frank\\\\Documents\\\\Python\\\\01_File_Readers\\\\1.3_File_Reader\\\\Superdirectory\\\\Directory\\\\demofile.txt') as file:\n",
    "    contents = file.read()\n",
    "    search_word = input(\"enter a word you want to search in file: \")\n",
    "    if search_word in contents:\n",
    "        print ('word found')\n",
    "    else:\n",
    "        print ('word not found')"
   ]
  },
  {
   "cell_type": "code",
   "execution_count": null,
   "id": "f7050c2f",
   "metadata": {},
   "outputs": [],
   "source": []
  },
  {
   "cell_type": "code",
   "execution_count": null,
   "id": "e88a6d20",
   "metadata": {},
   "outputs": [],
   "source": []
  }
 ],
 "metadata": {
  "kernelspec": {
   "display_name": "Python 3 (ipykernel)",
   "language": "python",
   "name": "python3"
  },
  "language_info": {
   "codemirror_mode": {
    "name": "ipython",
    "version": 3
   },
   "file_extension": ".py",
   "mimetype": "text/x-python",
   "name": "python",
   "nbconvert_exporter": "python",
   "pygments_lexer": "ipython3",
   "version": "3.10.4"
  }
 },
 "nbformat": 4,
 "nbformat_minor": 5
}
