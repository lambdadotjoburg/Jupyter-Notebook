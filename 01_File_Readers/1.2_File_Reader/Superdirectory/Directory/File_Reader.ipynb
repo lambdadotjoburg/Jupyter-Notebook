{
 "cells": [
  {
   "cell_type": "code",
   "execution_count": 1,
   "id": "381eb22c",
   "metadata": {},
   "outputs": [
    {
     "name": "stdout",
     "output_type": "stream",
     "text": [
      "This is a demo file to demonstrate the open() and read() function in Python within the same directory!!!\n"
     ]
    }
   ],
   "source": [
    "f = open(\"C:\\\\Users\\\\Frank\\\\Documents\\\\Python\\\\01_File_Readers\\\\1.1_File_Reader\\\\Superdirectory\\\\Directory\\\\demofile.txt\", \"r\")\n",
    "\n",
    "print(f.read())"
   ]
  },
  {
   "cell_type": "code",
   "execution_count": null,
   "id": "891cb807",
   "metadata": {},
   "outputs": [],
   "source": []
  }
 ],
 "metadata": {
  "kernelspec": {
   "display_name": "Python 3 (ipykernel)",
   "language": "python",
   "name": "python3"
  },
  "language_info": {
   "codemirror_mode": {
    "name": "ipython",
    "version": 3
   },
   "file_extension": ".py",
   "mimetype": "text/x-python",
   "name": "python",
   "nbconvert_exporter": "python",
   "pygments_lexer": "ipython3",
   "version": "3.10.4"
  }
 },
 "nbformat": 4,
 "nbformat_minor": 5
}
