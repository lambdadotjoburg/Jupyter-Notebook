{
 "cells": [
  {
   "cell_type": "markdown",
   "id": "c20dfb73",
   "metadata": {},
   "source": [
    "------------------------------------\n",
    "\n",
    "# Sample Headline\n",
    "\n",
    "*Italicized Text*\n",
    "\n",
    "------------------------------------\n",
    "\n",
    "## Another Headline (H2)\n",
    "\n",
    "Basic Formatting of *italics* and **bold** is supported. This *can be **nested** like* so.\n",
    "\n",
    "------------------------------------\n",
    "\n",
    "#### What this notebook shows\n",
    "\n",
    "1. Some shortcut keys\n",
    "2. How to add markdown\n",
    "3. And ... Other stuff\n",
    "\n",
    "------------------------------------\n",
    "\n",
    "To enter \"editor mode (green)\" press \"enter\"\n",
    "\n",
    "To enter \"command mode (Blue)\" press \"esc\"\n",
    "\n",
    "Press \"esc + m\" to make a cell a markdown cell type while being in command mode (blue);\n",
    "\n",
    "Press \"esc + y\" to make a cell a code cell type while being in command mode (blue);\n",
    "\n",
    "Double-click \"d\" to delete a cell in command mode (blue)\n",
    "\n",
    "Press \"shift + enter\" to execute the code in a cell\n",
    "\n",
    "Press \"A\" to enter a cell above\n",
    "\n",
    "Press \"B\" to enter a cell below\n",
    "\n",
    "------------------------------------"
   ]
  },
  {
   "cell_type": "code",
   "execution_count": 53,
   "id": "80ed43c6",
   "metadata": {},
   "outputs": [
    {
     "data": {
      "application/json": {
       "cell": {
        "!": "OSMagics",
        "HTML": "Other",
        "SVG": "Other",
        "bash": "Other",
        "capture": "ExecutionMagics",
        "cmd": "Other",
        "debug": "ExecutionMagics",
        "file": "Other",
        "html": "DisplayMagics",
        "javascript": "DisplayMagics",
        "js": "DisplayMagics",
        "latex": "DisplayMagics",
        "markdown": "DisplayMagics",
        "perl": "Other",
        "prun": "ExecutionMagics",
        "pypy": "Other",
        "python": "Other",
        "python2": "Other",
        "python3": "Other",
        "ruby": "Other",
        "script": "ScriptMagics",
        "sh": "Other",
        "svg": "DisplayMagics",
        "sx": "OSMagics",
        "system": "OSMagics",
        "time": "ExecutionMagics",
        "timeit": "ExecutionMagics",
        "writefile": "OSMagics"
       },
       "line": {
        "alias": "OSMagics",
        "alias_magic": "BasicMagics",
        "autoawait": "AsyncMagics",
        "autocall": "AutoMagics",
        "automagic": "AutoMagics",
        "autosave": "KernelMagics",
        "bookmark": "OSMagics",
        "cd": "OSMagics",
        "clear": "KernelMagics",
        "cls": "KernelMagics",
        "colors": "BasicMagics",
        "conda": "PackagingMagics",
        "config": "ConfigMagics",
        "connect_info": "KernelMagics",
        "copy": "Other",
        "ddir": "Other",
        "debug": "ExecutionMagics",
        "dhist": "OSMagics",
        "dirs": "OSMagics",
        "doctest_mode": "BasicMagics",
        "echo": "Other",
        "ed": "Other",
        "edit": "KernelMagics",
        "env": "OSMagics",
        "gui": "BasicMagics",
        "hist": "Other",
        "history": "HistoryMagics",
        "killbgscripts": "ScriptMagics",
        "ldir": "Other",
        "less": "KernelMagics",
        "load": "CodeMagics",
        "load_ext": "ExtensionMagics",
        "loadpy": "CodeMagics",
        "logoff": "LoggingMagics",
        "logon": "LoggingMagics",
        "logstart": "LoggingMagics",
        "logstate": "LoggingMagics",
        "logstop": "LoggingMagics",
        "ls": "Other",
        "lsmagic": "BasicMagics",
        "macro": "ExecutionMagics",
        "magic": "BasicMagics",
        "matplotlib": "PylabMagics",
        "mkdir": "Other",
        "more": "KernelMagics",
        "notebook": "BasicMagics",
        "page": "BasicMagics",
        "pastebin": "CodeMagics",
        "pdb": "ExecutionMagics",
        "pdef": "NamespaceMagics",
        "pdoc": "NamespaceMagics",
        "pfile": "NamespaceMagics",
        "pinfo": "NamespaceMagics",
        "pinfo2": "NamespaceMagics",
        "pip": "PackagingMagics",
        "popd": "OSMagics",
        "pprint": "BasicMagics",
        "precision": "BasicMagics",
        "prun": "ExecutionMagics",
        "psearch": "NamespaceMagics",
        "psource": "NamespaceMagics",
        "pushd": "OSMagics",
        "pwd": "OSMagics",
        "pycat": "OSMagics",
        "pylab": "PylabMagics",
        "qtconsole": "KernelMagics",
        "quickref": "BasicMagics",
        "recall": "HistoryMagics",
        "rehashx": "OSMagics",
        "reload_ext": "ExtensionMagics",
        "ren": "Other",
        "rep": "Other",
        "rerun": "HistoryMagics",
        "reset": "NamespaceMagics",
        "reset_selective": "NamespaceMagics",
        "rmdir": "Other",
        "run": "ExecutionMagics",
        "save": "CodeMagics",
        "sc": "OSMagics",
        "set_env": "OSMagics",
        "store": "StoreMagics",
        "sx": "OSMagics",
        "system": "OSMagics",
        "tb": "ExecutionMagics",
        "time": "ExecutionMagics",
        "timeit": "ExecutionMagics",
        "unalias": "OSMagics",
        "unload_ext": "ExtensionMagics",
        "who": "NamespaceMagics",
        "who_ls": "NamespaceMagics",
        "whos": "NamespaceMagics",
        "xdel": "NamespaceMagics",
        "xmode": "BasicMagics"
       }
      },
      "text/plain": [
       "Available line magics:\n",
       "%alias  %alias_magic  %autoawait  %autocall  %automagic  %autosave  %bookmark  %cd  %clear  %cls  %colors  %conda  %config  %connect_info  %copy  %ddir  %debug  %dhist  %dirs  %doctest_mode  %echo  %ed  %edit  %env  %gui  %hist  %history  %killbgscripts  %ldir  %less  %load  %load_ext  %loadpy  %logoff  %logon  %logstart  %logstate  %logstop  %ls  %lsmagic  %macro  %magic  %matplotlib  %mkdir  %more  %notebook  %page  %pastebin  %pdb  %pdef  %pdoc  %pfile  %pinfo  %pinfo2  %pip  %popd  %pprint  %precision  %prun  %psearch  %psource  %pushd  %pwd  %pycat  %pylab  %qtconsole  %quickref  %recall  %rehashx  %reload_ext  %ren  %rep  %rerun  %reset  %reset_selective  %rmdir  %run  %save  %sc  %set_env  %store  %sx  %system  %tb  %time  %timeit  %unalias  %unload_ext  %who  %who_ls  %whos  %xdel  %xmode\n",
       "\n",
       "Available cell magics:\n",
       "%%!  %%HTML  %%SVG  %%bash  %%capture  %%cmd  %%debug  %%file  %%html  %%javascript  %%js  %%latex  %%markdown  %%perl  %%prun  %%pypy  %%python  %%python2  %%python3  %%ruby  %%script  %%sh  %%svg  %%sx  %%system  %%time  %%timeit  %%writefile\n",
       "\n",
       "Automagic is ON, % prefix IS NOT needed for line magics."
      ]
     },
     "execution_count": 53,
     "metadata": {},
     "output_type": "execute_result"
    }
   ],
   "source": [
    "%lsmagic"
   ]
  },
  {
   "cell_type": "code",
   "execution_count": 54,
   "id": "c65fd1cc",
   "metadata": {},
   "outputs": [
    {
     "name": "stdout",
     "output_type": "stream",
     "text": [
      "Package              Version\n",
      "-------------------- -----------\n",
      "anyio                3.5.0\n",
      "argon2-cffi          21.3.0\n",
      "argon2-cffi-bindings 21.2.0\n",
      "asttokens            2.0.5\n",
      "attrs                21.4.0\n",
      "Babel                2.9.1\n",
      "backcall             0.2.0\n",
      "beautifulsoup4       4.11.1\n",
      "bleach               5.0.0\n",
      "certifi              2021.10.8\n",
      "cffi                 1.15.0\n",
      "charset-normalizer   2.0.12\n",
      "colorama             0.4.4\n",
      "cycler               0.11.0\n",
      "debugpy              1.6.0\n",
      "decorator            5.1.1\n",
      "defusedxml           0.7.1\n",
      "entrypoints          0.4\n",
      "executing            0.8.3\n",
      "fastjsonschema       2.15.3\n",
      "fonttools            4.32.0\n",
      "idna                 3.3\n",
      "ipykernel            6.13.0\n",
      "ipython              8.2.0\n",
      "ipython-genutils     0.2.0\n",
      "jedi                 0.18.1\n",
      "Jinja2               3.1.1\n",
      "json5                0.9.6\n",
      "jsonschema           4.4.0\n",
      "jupyter-client       7.2.2\n",
      "jupyter-core         4.10.0\n",
      "jupyter-server       1.16.0\n",
      "jupyterlab           3.3.4\n",
      "jupyterlab-pygments  0.2.2\n",
      "jupyterlab-server    2.12.0\n",
      "kiwisolver           1.4.2\n",
      "MarkupSafe           2.1.1\n",
      "matplotlib           3.5.1\n",
      "matplotlib-inline    0.1.3\n",
      "mistune              0.8.4\n",
      "mpmath               1.2.1\n",
      "nbclassic            0.3.7\n",
      "nbclient             0.6.0\n",
      "nbconvert            6.5.0\n",
      "nbformat             5.3.0\n",
      "nest-asyncio         1.5.5\n",
      "notebook             6.4.11\n",
      "notebook-shim        0.1.0\n",
      "numpy                1.22.3\n",
      "packaging            21.3\n",
      "pandocfilters        1.5.0\n",
      "parso                0.8.3\n",
      "pickleshare          0.7.5\n",
      "Pillow               9.1.0\n",
      "pip                  22.0.4\n",
      "prometheus-client    0.14.1\n",
      "prompt-toolkit       3.0.29\n",
      "psutil               5.9.0\n",
      "pure-eval            0.2.2\n",
      "pycparser            2.21\n",
      "Pygments             2.11.2\n",
      "pyparsing            3.0.8\n",
      "pyrsistent           0.18.1\n",
      "python-dateutil      2.8.2\n",
      "pytz                 2022.1\n",
      "pywin32              303\n",
      "pywinpty             2.0.5\n",
      "pyzmq                22.3.0\n",
      "requests             2.27.1\n",
      "Send2Trash           1.8.0\n",
      "setuptools           58.1.0\n",
      "six                  1.16.0\n",
      "sniffio              1.2.0\n",
      "soupsieve            2.3.2.post1\n",
      "stack-data           0.2.0\n",
      "sympy                1.10.1\n",
      "terminado            0.13.3\n",
      "tinycss2             1.1.1\n",
      "tornado              6.1\n",
      "traitlets            5.1.1\n",
      "urllib3              1.26.9\n",
      "wcwidth              0.2.5\n",
      "webencodings         0.5.1\n",
      "websocket-client     1.3.2\n",
      "Note: you may need to restart the kernel to use updated packages.\n"
     ]
    }
   ],
   "source": [
    "%pip list"
   ]
  },
  {
   "cell_type": "code",
   "execution_count": 55,
   "id": "ddb3e95d",
   "metadata": {},
   "outputs": [
    {
     "data": {
      "text/plain": [
       "'C:\\\\Users\\\\Frank\\\\Documents\\\\Python\\\\7_Jupyter_Notebook\\\\1_Notebook'"
      ]
     },
     "execution_count": 55,
     "metadata": {},
     "output_type": "execute_result"
    }
   ],
   "source": [
    "%pwd"
   ]
  },
  {
   "cell_type": "code",
   "execution_count": 61,
   "id": "62120cdc",
   "metadata": {},
   "outputs": [
    {
     "name": "stdout",
     "output_type": "stream",
     "text": [
      " Volume in drive C has no label.\n",
      " Volume Serial Number is 0A21-92A2\n",
      "\n",
      " Directory of C:\\Users\\Frank\\Documents\\Python\\7_Jupyter_Notebook\\1_Notebook\n",
      "\n",
      "19-Apr-22  20:01    <DIR>          .\n",
      "19-Apr-22  20:01    <DIR>          ..\n",
      "19-Apr-22  18:46    <DIR>          .ipynb_checkpoints\n",
      "19-Apr-22  20:01            12,407 1_Tutorial.ipynb\n",
      "               1 File(s)         12,407 bytes\n",
      "               3 Dir(s)  221,531,131,904 bytes free\n"
     ]
    }
   ],
   "source": [
    "%ls"
   ]
  },
  {
   "cell_type": "code",
   "execution_count": null,
   "id": "ef52bae9",
   "metadata": {},
   "outputs": [],
   "source": []
  },
  {
   "cell_type": "code",
   "execution_count": 68,
   "id": "2f29b721",
   "metadata": {},
   "outputs": [],
   "source": [
    "%matplotlib inline"
   ]
  },
  {
   "cell_type": "code",
   "execution_count": 70,
   "id": "3f9a73e2",
   "metadata": {},
   "outputs": [
    {
     "data": {
      "image/png": "[encoded data removed]",
      "text/plain": [
       "<Figure size 432x288 with 1 Axes>"
      ]
     },
     "metadata": {
      "needs_background": "light"
     },
     "output_type": "display_data"
    }
   ],
   "source": [
    "\"\"\"\n",
    "Simple demo of a scatter plot\n",
    "\"\"\"\n",
    "\n",
    "import numpy as np\n",
    "import matplotlib.pyplot as plt\n",
    "\n",
    "N=50\n",
    "x=np.random.rand(N)\n",
    "y=np.random.rand(N)\n",
    "colors=np.random.rand(N)\n",
    "area=np.pi*(15*np.random.rand(N)**2) # 0 to 15 point radiuses\n",
    "\n",
    "plt.scatter(x,y,s=area,c=colors,alpha=0.5)\n",
    "plt.show()"
   ]
  },
  {
   "cell_type": "code",
   "execution_count": 1,
   "id": "06fbeb27",
   "metadata": {},
   "outputs": [
    {
     "data": {
      "text/html": [
       "\n",
       "<iframe width=\"500px\" height=\"300px\" src=\"https://youtube.com/embed/YJC6ldI3hWk\" title=\"Youtube Video\"></iframe>b\n"
      ],
      "text/plain": [
       "<IPython.core.display.HTML object>"
      ]
     },
     "metadata": {},
     "output_type": "display_data"
    }
   ],
   "source": [
    "%%HTML\n",
    "\n",
    "<iframe width=\"500px\" height=\"300px\" src=\"https://youtube.com/embed/YJC6ldI3hWk\" title=\"Youtube Video\"></iframe>b"
   ]
  },
  {
   "cell_type": "code",
   "execution_count": 13,
   "id": "668f0997",
   "metadata": {},
   "outputs": [
    {
     "data": {
      "text/html": [
       "\n",
       "<!DOCTYPE html>\n",
       "<html>\n",
       "<body>\n",
       "\n",
       "<h2>JavaScript in Body</h2>\n",
       "\n",
       "<p id=\"demo\">Hello World</p>\n",
       "\n",
       "</body>\n",
       "</html>\n"
      ],
      "text/plain": [
       "<IPython.core.display.HTML object>"
      ]
     },
     "metadata": {},
     "output_type": "display_data"
    }
   ],
   "source": [
    "%%HTML\n",
    "\n",
    "<!DOCTYPE html>\n",
    "<html>\n",
    "<body>\n",
    "\n",
    "<h2>JavaScript in Body</h2>\n",
    "\n",
    "<p id=\"demo\">Hello World</p>\n",
    "\n",
    "</body>\n",
    "</html>"
   ]
  },
  {
   "cell_type": "code",
   "execution_count": 14,
   "id": "6b9979ca",
   "metadata": {},
   "outputs": [
    {
     "data": {
      "application/javascript": [
       "\n",
       "document.getElementById(\"demo\").innerHTML = \"My First JavaScript\";\n"
      ],
      "text/plain": [
       "<IPython.core.display.Javascript object>"
      ]
     },
     "metadata": {},
     "output_type": "display_data"
    }
   ],
   "source": [
    "%%javascript\n",
    "\n",
    "document.getElementById(\"demo\").innerHTML = \"My First JavaScript\";"
   ]
  },
  {
   "cell_type": "code",
   "execution_count": null,
   "id": "7906150d",
   "metadata": {},
   "outputs": [],
   "source": []
  }
 ],
 "metadata": {
  "kernelspec": {
   "display_name": "Python 3 (ipykernel)",
   "language": "python",
   "name": "python3"
  },
  "language_info": {
   "codemirror_mode": {
    "name": "ipython",
    "version": 3
   },
   "file_extension": ".py",
   "mimetype": "text/x-python",
   "name": "python",
   "nbconvert_exporter": "python",
   "pygments_lexer": "ipython3",
   "version": "3.10.4"
  }
 },
 "nbformat": 4,
 "nbformat_minor": 5
}
