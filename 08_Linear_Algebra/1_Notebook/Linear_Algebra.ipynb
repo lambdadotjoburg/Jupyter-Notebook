{
 "cells": [
  {
   "cell_type": "markdown",
   "id": "7d788853",
   "metadata": {},
   "source": [
    "# Linear Algebra"
   ]
  },
  {
   "cell_type": "code",
   "execution_count": 344,
   "id": "a5141c20",
   "metadata": {},
   "outputs": [],
   "source": [
    "from sympy import *\n",
    "import numpy as np"
   ]
  },
  {
   "cell_type": "code",
   "execution_count": 345,
   "id": "62e84725",
   "metadata": {},
   "outputs": [],
   "source": [
    "x,y,z = symbols('x,y,z')"
   ]
  },
  {
   "cell_type": "code",
   "execution_count": 346,
   "id": "f2b74368",
   "metadata": {},
   "outputs": [],
   "source": [
    "eq1 = Eq(5*x+5*y-7, 0)\n",
    "eq2 = Eq(6*x-4*y-9,0)"
   ]
  },
  {
   "cell_type": "code",
   "execution_count": 347,
   "id": "1f078392",
   "metadata": {},
   "outputs": [
    {
     "name": "stdout",
     "output_type": "stream",
     "text": [
      "{x: 73/50, y: -3/50}\n"
     ]
    }
   ],
   "source": [
    "solution = solve((eq1, eq2), (x, y))\n",
    "print(solution)"
   ]
  },
  {
   "cell_type": "code",
   "execution_count": 348,
   "id": "d0cb6751",
   "metadata": {},
   "outputs": [
    {
     "data": {
      "text/latex": [
       "$\\displaystyle \\frac{73}{50}$"
      ],
      "text/plain": [
       "73/50"
      ]
     },
     "execution_count": 348,
     "metadata": {},
     "output_type": "execute_result"
    }
   ],
   "source": [
    "solution[x]"
   ]
  },
  {
   "cell_type": "code",
   "execution_count": 349,
   "id": "a1eb8f55",
   "metadata": {},
   "outputs": [
    {
     "data": {
      "text/latex": [
       "$\\displaystyle - \\frac{3}{50}$"
      ],
      "text/plain": [
       "-3/50"
      ]
     },
     "execution_count": 349,
     "metadata": {},
     "output_type": "execute_result"
    }
   ],
   "source": [
    "solution[y]"
   ]
  },
  {
   "cell_type": "markdown",
   "id": "63487c0b",
   "metadata": {},
   "source": [
    "# Matrix Equations"
   ]
  },
  {
   "cell_type": "markdown",
   "id": "c2ad31c0",
   "metadata": {},
   "source": [
    "###  $2 \\times 2$ Matrix"
   ]
  },
  {
   "cell_type": "code",
   "execution_count": 350,
   "id": "9192cbbc",
   "metadata": {},
   "outputs": [
    {
     "data": {
      "text/latex": [
       "$\\displaystyle \\left[\\begin{matrix}1 & 1\\\\1 & 2\\end{matrix}\\right]$"
      ],
      "text/plain": [
       "Matrix([\n",
       "[1, 1],\n",
       "[1, 2]])"
      ]
     },
     "execution_count": 350,
     "metadata": {},
     "output_type": "execute_result"
    }
   ],
   "source": [
    "M = Matrix([[1, 1], [1, 2]])\n",
    "M"
   ]
  },
  {
   "cell_type": "code",
   "execution_count": 351,
   "id": "cb2dcacb",
   "metadata": {},
   "outputs": [
    {
     "data": {
      "text/latex": [
       "$\\displaystyle \\left[\\begin{matrix}x\\\\y\\end{matrix}\\right]$"
      ],
      "text/plain": [
       "Matrix([\n",
       "[x],\n",
       "[y]])"
      ]
     },
     "execution_count": 351,
     "metadata": {},
     "output_type": "execute_result"
    }
   ],
   "source": [
    "v = Matrix([x, y])\n",
    "v"
   ]
  },
  {
   "cell_type": "code",
   "execution_count": 352,
   "id": "c637aa96",
   "metadata": {},
   "outputs": [
    {
     "data": {
      "text/latex": [
       "$\\displaystyle \\left[\\begin{matrix}4\\\\1\\end{matrix}\\right]$"
      ],
      "text/plain": [
       "Matrix([\n",
       "[4],\n",
       "[1]])"
      ]
     },
     "execution_count": 352,
     "metadata": {},
     "output_type": "execute_result"
    }
   ],
   "source": [
    "c = Matrix([4, 1])\n",
    "c"
   ]
  },
  {
   "cell_type": "code",
   "execution_count": 353,
   "id": "0b8d8bf1",
   "metadata": {},
   "outputs": [
    {
     "data": {
      "text/latex": [
       "$\\displaystyle \\left[\\begin{matrix}x + y\\\\x + 2 y\\end{matrix}\\right]$"
      ],
      "text/plain": [
       "Matrix([\n",
       "[  x + y],\n",
       "[x + 2*y]])"
      ]
     },
     "execution_count": 353,
     "metadata": {},
     "output_type": "execute_result"
    }
   ],
   "source": [
    "M*v"
   ]
  },
  {
   "cell_type": "code",
   "execution_count": 354,
   "id": "1ef54956",
   "metadata": {},
   "outputs": [
    {
     "data": {
      "text/latex": [
       "$\\displaystyle \\left[\\begin{matrix}x + y\\\\x + 2 y\\end{matrix}\\right] = \\left[\\begin{matrix}4\\\\1\\end{matrix}\\right]$"
      ],
      "text/plain": [
       "Eq(Matrix([\n",
       "[  x + y],\n",
       "[x + 2*y]]), Matrix([\n",
       "[4],\n",
       "[1]]))"
      ]
     },
     "execution_count": 354,
     "metadata": {},
     "output_type": "execute_result"
    }
   ],
   "source": [
    "eq = Eq(M*v, c)\n",
    "eq"
   ]
  },
  {
   "cell_type": "code",
   "execution_count": 355,
   "id": "dd753d60",
   "metadata": {},
   "outputs": [
    {
     "data": {
      "text/plain": [
       "{x: 7, y: -3}"
      ]
     },
     "execution_count": 355,
     "metadata": {},
     "output_type": "execute_result"
    }
   ],
   "source": [
    "solution = solve(eq, v)\n",
    "solution"
   ]
  },
  {
   "cell_type": "code",
   "execution_count": 356,
   "id": "6e9bfad9",
   "metadata": {},
   "outputs": [
    {
     "data": {
      "text/latex": [
       "$\\displaystyle 7$"
      ],
      "text/plain": [
       "7"
      ]
     },
     "execution_count": 356,
     "metadata": {},
     "output_type": "execute_result"
    }
   ],
   "source": [
    "solution[x]"
   ]
  },
  {
   "cell_type": "code",
   "execution_count": 357,
   "id": "50a608ed",
   "metadata": {},
   "outputs": [
    {
     "data": {
      "text/latex": [
       "$\\displaystyle -3$"
      ],
      "text/plain": [
       "-3"
      ]
     },
     "execution_count": 357,
     "metadata": {},
     "output_type": "execute_result"
    }
   ],
   "source": [
    "solution[y]"
   ]
  },
  {
   "cell_type": "code",
   "execution_count": 358,
   "id": "6e883ad9",
   "metadata": {},
   "outputs": [
    {
     "name": "stdout",
     "output_type": "stream",
     "text": [
      "7\n",
      "-3\n"
     ]
    }
   ],
   "source": [
    "if solution == []:\n",
    "    print(\"No Solution\")\n",
    "else:\n",
    "    for sol in solution:\n",
    "        print(solution[sol])"
   ]
  },
  {
   "cell_type": "markdown",
   "id": "8736b588",
   "metadata": {},
   "source": [
    "### $ 3 \\times 3 $ System"
   ]
  },
  {
   "cell_type": "code",
   "execution_count": 359,
   "id": "e87662e4",
   "metadata": {},
   "outputs": [
    {
     "data": {
      "text/latex": [
       "$\\displaystyle \\left[\\begin{matrix}1 & 1 & 3\\\\1 & 2 & 2\\\\3 & 3 & 3\\end{matrix}\\right]$"
      ],
      "text/plain": [
       "Matrix([\n",
       "[1, 1, 3],\n",
       "[1, 2, 2],\n",
       "[3, 3, 3]])"
      ]
     },
     "execution_count": 359,
     "metadata": {},
     "output_type": "execute_result"
    }
   ],
   "source": [
    "M = Matrix([[1, 1, 3], [1, 2, 2], [3, 3, 3]])\n",
    "M"
   ]
  },
  {
   "cell_type": "code",
   "execution_count": 360,
   "id": "545f46fa",
   "metadata": {},
   "outputs": [
    {
     "data": {
      "text/latex": [
       "$\\displaystyle \\left[\\begin{matrix}x\\\\y\\\\z\\end{matrix}\\right]$"
      ],
      "text/plain": [
       "Matrix([\n",
       "[x],\n",
       "[y],\n",
       "[z]])"
      ]
     },
     "execution_count": 360,
     "metadata": {},
     "output_type": "execute_result"
    }
   ],
   "source": [
    "v = Matrix([x, y, z])\n",
    "v"
   ]
  },
  {
   "cell_type": "code",
   "execution_count": 361,
   "id": "5a25b022",
   "metadata": {},
   "outputs": [
    {
     "data": {
      "text/latex": [
       "$\\displaystyle \\left[\\begin{matrix}1\\\\2\\\\3\\end{matrix}\\right]$"
      ],
      "text/plain": [
       "Matrix([\n",
       "[1],\n",
       "[2],\n",
       "[3]])"
      ]
     },
     "execution_count": 361,
     "metadata": {},
     "output_type": "execute_result"
    }
   ],
   "source": [
    "c = Matrix([1, 2, 3])\n",
    "c"
   ]
  },
  {
   "cell_type": "code",
   "execution_count": 362,
   "id": "6b45b58f",
   "metadata": {},
   "outputs": [
    {
     "data": {
      "text/latex": [
       "$\\displaystyle \\left[\\begin{matrix}x + y + 3 z\\\\x + 2 y + 2 z\\\\3 x + 3 y + 3 z\\end{matrix}\\right]$"
      ],
      "text/plain": [
       "Matrix([\n",
       "[    x + y + 3*z],\n",
       "[  x + 2*y + 2*z],\n",
       "[3*x + 3*y + 3*z]])"
      ]
     },
     "execution_count": 362,
     "metadata": {},
     "output_type": "execute_result"
    }
   ],
   "source": [
    "M*v"
   ]
  },
  {
   "cell_type": "code",
   "execution_count": 363,
   "id": "50488f55",
   "metadata": {},
   "outputs": [
    {
     "data": {
      "text/latex": [
       "$\\displaystyle \\left[\\begin{matrix}x + y + 3 z\\\\x + 2 y + 2 z\\\\3 x + 3 y + 3 z\\end{matrix}\\right] = \\left[\\begin{matrix}1\\\\2\\\\3\\end{matrix}\\right]$"
      ],
      "text/plain": [
       "Eq(Matrix([\n",
       "[    x + y + 3*z],\n",
       "[  x + 2*y + 2*z],\n",
       "[3*x + 3*y + 3*z]]), Matrix([\n",
       "[1],\n",
       "[2],\n",
       "[3]]))"
      ]
     },
     "execution_count": 363,
     "metadata": {},
     "output_type": "execute_result"
    }
   ],
   "source": [
    "eq = Eq(M*v, c)\n",
    "eq"
   ]
  },
  {
   "cell_type": "code",
   "execution_count": 364,
   "id": "bf52865e",
   "metadata": {},
   "outputs": [
    {
     "data": {
      "text/plain": [
       "{x: 0, y: 1, z: 0}"
      ]
     },
     "execution_count": 364,
     "metadata": {},
     "output_type": "execute_result"
    }
   ],
   "source": [
    "solution = solve(eq, v)\n",
    "solution"
   ]
  },
  {
   "cell_type": "code",
   "execution_count": 365,
   "id": "19e140bd",
   "metadata": {},
   "outputs": [
    {
     "data": {
      "text/latex": [
       "$\\displaystyle 0$"
      ],
      "text/plain": [
       "0"
      ]
     },
     "execution_count": 365,
     "metadata": {},
     "output_type": "execute_result"
    }
   ],
   "source": [
    "solution[x]"
   ]
  },
  {
   "cell_type": "code",
   "execution_count": 366,
   "id": "5b450f53",
   "metadata": {},
   "outputs": [
    {
     "data": {
      "text/latex": [
       "$\\displaystyle 1$"
      ],
      "text/plain": [
       "1"
      ]
     },
     "execution_count": 366,
     "metadata": {},
     "output_type": "execute_result"
    }
   ],
   "source": [
    "solution[y]"
   ]
  },
  {
   "cell_type": "code",
   "execution_count": 367,
   "id": "bbd4b87c",
   "metadata": {},
   "outputs": [
    {
     "data": {
      "text/latex": [
       "$\\displaystyle 0$"
      ],
      "text/plain": [
       "0"
      ]
     },
     "execution_count": 367,
     "metadata": {},
     "output_type": "execute_result"
    }
   ],
   "source": [
    "solution[z]"
   ]
  },
  {
   "cell_type": "code",
   "execution_count": 368,
   "id": "b1e33e4e",
   "metadata": {},
   "outputs": [
    {
     "name": "stdout",
     "output_type": "stream",
     "text": [
      "0\n",
      "1\n",
      "0\n"
     ]
    }
   ],
   "source": [
    "if solution == []:\n",
    "    print(\"No Solution\")\n",
    "else:\n",
    "    for sol in solution:\n",
    "        print(solution[sol])"
   ]
  },
  {
   "cell_type": "markdown",
   "id": "0ea6028c",
   "metadata": {},
   "source": [
    "#### Infinitely Many Solutions"
   ]
  },
  {
   "cell_type": "code",
   "execution_count": 369,
   "id": "8795095e",
   "metadata": {},
   "outputs": [
    {
     "data": {
      "text/latex": [
       "$\\displaystyle \\left[\\begin{matrix}1 & 1\\\\1 & 1\\end{matrix}\\right]$"
      ],
      "text/plain": [
       "Matrix([\n",
       "[1, 1],\n",
       "[1, 1]])"
      ]
     },
     "execution_count": 369,
     "metadata": {},
     "output_type": "execute_result"
    }
   ],
   "source": [
    "M = Matrix([[1, 1], [1, 1]])\n",
    "M"
   ]
  },
  {
   "cell_type": "code",
   "execution_count": 370,
   "id": "c1d9a488",
   "metadata": {},
   "outputs": [
    {
     "data": {
      "text/latex": [
       "$\\displaystyle \\left[\\begin{matrix}x\\\\y\\end{matrix}\\right]$"
      ],
      "text/plain": [
       "Matrix([\n",
       "[x],\n",
       "[y]])"
      ]
     },
     "execution_count": 370,
     "metadata": {},
     "output_type": "execute_result"
    }
   ],
   "source": [
    "v = Matrix([x, y])\n",
    "v"
   ]
  },
  {
   "cell_type": "code",
   "execution_count": 371,
   "id": "ec1264fb",
   "metadata": {},
   "outputs": [
    {
     "data": {
      "text/latex": [
       "$\\displaystyle \\left[\\begin{matrix}1\\\\1\\end{matrix}\\right]$"
      ],
      "text/plain": [
       "Matrix([\n",
       "[1],\n",
       "[1]])"
      ]
     },
     "execution_count": 371,
     "metadata": {},
     "output_type": "execute_result"
    }
   ],
   "source": [
    "c = Matrix([1, 1])\n",
    "c"
   ]
  },
  {
   "cell_type": "code",
   "execution_count": 372,
   "id": "43644163",
   "metadata": {},
   "outputs": [
    {
     "data": {
      "text/latex": [
       "$\\displaystyle \\left[\\begin{matrix}x + y\\\\x + y\\end{matrix}\\right] = \\left[\\begin{matrix}1\\\\1\\end{matrix}\\right]$"
      ],
      "text/plain": [
       "Eq(Matrix([\n",
       "[x + y],\n",
       "[x + y]]), Matrix([\n",
       "[1],\n",
       "[1]]))"
      ]
     },
     "execution_count": 372,
     "metadata": {},
     "output_type": "execute_result"
    }
   ],
   "source": [
    "eq = Eq(M*v, c)\n",
    "eq"
   ]
  },
  {
   "cell_type": "code",
   "execution_count": 373,
   "id": "2a970b4c",
   "metadata": {},
   "outputs": [
    {
     "data": {
      "text/plain": [
       "{x: 1 - y}"
      ]
     },
     "execution_count": 373,
     "metadata": {},
     "output_type": "execute_result"
    }
   ],
   "source": [
    "solution = solve(eq, v)\n",
    "solution"
   ]
  },
  {
   "cell_type": "code",
   "execution_count": 374,
   "id": "03c8fde0",
   "metadata": {},
   "outputs": [
    {
     "name": "stdout",
     "output_type": "stream",
     "text": [
      "1 - y\n"
     ]
    }
   ],
   "source": [
    "if solution == []:\n",
    "    print(\"No Solution\")\n",
    "else:\n",
    "    for sol in solution:\n",
    "        print(solution[sol])"
   ]
  },
  {
   "cell_type": "markdown",
   "id": "0e390a0a",
   "metadata": {},
   "source": [
    "#### No Solution"
   ]
  },
  {
   "cell_type": "code",
   "execution_count": 375,
   "id": "51e178d6",
   "metadata": {},
   "outputs": [
    {
     "data": {
      "text/latex": [
       "$\\displaystyle \\left[\\begin{matrix}1 & -1\\\\1 & -1\\end{matrix}\\right]$"
      ],
      "text/plain": [
       "Matrix([\n",
       "[1, -1],\n",
       "[1, -1]])"
      ]
     },
     "execution_count": 375,
     "metadata": {},
     "output_type": "execute_result"
    }
   ],
   "source": [
    "M = Matrix([[1, -1], [1, -1]])\n",
    "M"
   ]
  },
  {
   "cell_type": "code",
   "execution_count": 376,
   "id": "d63f5eff",
   "metadata": {},
   "outputs": [
    {
     "data": {
      "text/latex": [
       "$\\displaystyle \\left[\\begin{matrix}x\\\\y\\end{matrix}\\right]$"
      ],
      "text/plain": [
       "Matrix([\n",
       "[x],\n",
       "[y]])"
      ]
     },
     "execution_count": 376,
     "metadata": {},
     "output_type": "execute_result"
    }
   ],
   "source": [
    "v = Matrix([x, y])\n",
    "v"
   ]
  },
  {
   "cell_type": "code",
   "execution_count": 377,
   "id": "7c46e7e8",
   "metadata": {},
   "outputs": [
    {
     "data": {
      "text/latex": [
       "$\\displaystyle \\left[\\begin{matrix}1\\\\3\\end{matrix}\\right]$"
      ],
      "text/plain": [
       "Matrix([\n",
       "[1],\n",
       "[3]])"
      ]
     },
     "execution_count": 377,
     "metadata": {},
     "output_type": "execute_result"
    }
   ],
   "source": [
    "c = Matrix([1, 3])\n",
    "c"
   ]
  },
  {
   "cell_type": "code",
   "execution_count": 378,
   "id": "5f27e550",
   "metadata": {},
   "outputs": [
    {
     "data": {
      "text/latex": [
       "$\\displaystyle \\left[\\begin{matrix}x - y\\\\x - y\\end{matrix}\\right] = \\left[\\begin{matrix}1\\\\3\\end{matrix}\\right]$"
      ],
      "text/plain": [
       "Eq(Matrix([\n",
       "[x - y],\n",
       "[x - y]]), Matrix([\n",
       "[1],\n",
       "[3]]))"
      ]
     },
     "execution_count": 378,
     "metadata": {},
     "output_type": "execute_result"
    }
   ],
   "source": [
    "eq = Eq(M*v, c)\n",
    "eq"
   ]
  },
  {
   "cell_type": "code",
   "execution_count": 379,
   "id": "ac3a4a88",
   "metadata": {},
   "outputs": [
    {
     "data": {
      "text/plain": [
       "[]"
      ]
     },
     "execution_count": 379,
     "metadata": {},
     "output_type": "execute_result"
    }
   ],
   "source": [
    "solution = solve(eq, v)\n",
    "solution"
   ]
  },
  {
   "cell_type": "code",
   "execution_count": 380,
   "id": "09165136",
   "metadata": {},
   "outputs": [
    {
     "name": "stdout",
     "output_type": "stream",
     "text": [
      "No Solution\n"
     ]
    }
   ],
   "source": [
    "if solution == []:\n",
    "    print(\"No Solution\")\n",
    "else:\n",
    "    for sol in solution:\n",
    "        print(solution[sol])"
   ]
  },
  {
   "cell_type": "code",
   "execution_count": null,
   "id": "ef15a88a",
   "metadata": {},
   "outputs": [],
   "source": []
  },
  {
   "cell_type": "code",
   "execution_count": null,
   "id": "48e88442",
   "metadata": {},
   "outputs": [],
   "source": []
  }
 ],
 "metadata": {
  "kernelspec": {
   "display_name": "Python 3 (ipykernel)",
   "language": "python",
   "name": "python3"
  },
  "language_info": {
   "codemirror_mode": {
    "name": "ipython",
    "version": 3
   },
   "file_extension": ".py",
   "mimetype": "text/x-python",
   "name": "python",
   "nbconvert_exporter": "python",
   "pygments_lexer": "ipython3",
   "version": "3.10.4"
  }
 },
 "nbformat": 4,
 "nbformat_minor": 5
}
