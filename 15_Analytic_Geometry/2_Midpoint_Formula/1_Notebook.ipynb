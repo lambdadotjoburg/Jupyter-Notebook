{
 "cells": [
  {
   "cell_type": "code",
   "execution_count": 5,
   "id": "97b97eef",
   "metadata": {},
   "outputs": [],
   "source": [
    "import numpy as np\n",
    "import matplotlib.pyplot as plt\n",
    "\n",
    "from sympy import *\n",
    "from sympy import plot_implicit, symbols, Eq, And\n",
    "\n",
    "from matplotlib.widgets import Button"
   ]
  },
  {
   "cell_type": "code",
   "execution_count": 2,
   "id": "3dfa7d41",
   "metadata": {},
   "outputs": [
    {
     "name": "stdout",
     "output_type": "stream",
     "text": [
      "[-5, -4, -3, -2, -1, 0]\n",
      "[0, 1, 2, 3, 4, 5, 6]\n"
     ]
    },
    {
     "data": {
      "text/latex": [
       "$\\displaystyle 5$"
      ],
      "text/plain": [
       "5"
      ]
     },
     "metadata": {},
     "output_type": "display_data"
    },
    {
     "data": {
      "image/png": "[encoded data removed]",
      "text/plain": [
       "<Figure size 360x360 with 1 Axes>"
      ]
     },
     "metadata": {
      "needs_background": "light"
     },
     "output_type": "display_data"
    }
   ],
   "source": [
    "# Specify one coordinate\n",
    "\n",
    "x1 = -2\n",
    "y1 = 2\n",
    "\n",
    "# Specify a second coordinate\n",
    "\n",
    "x2 = -5\n",
    "y2 = 6\n",
    "\n",
    "# Make coordinates into a ordered pair\n",
    "\n",
    "x = [x1, x2]\n",
    "y = [y1, y2]\n",
    "\n",
    "def calculateDistance(x1,y1,x2,y2):\n",
    "    return sqrt((x1-x2)**2 + (y1-y2)**2)\n",
    "\n",
    "r = calculateDistance(x1,y1,x2,y2)\n",
    "\n",
    "fig = plt.figure(figsize=(5,5))\n",
    "\n",
    "ax = fig.add_subplot(1, 1, 1)\n",
    "\n",
    "# Move left y-axis and bottim x-axis to centre, passing through (0,0)\n",
    "ax.spines['left'].set_position('zero')\n",
    "ax.spines['bottom'].set_position('zero')\n",
    "\n",
    "# Eliminate upper and right axes\n",
    "ax.spines['right'].set_color('none')\n",
    "ax.spines['top'].set_color('none')\n",
    "\n",
    "# Show ticks in the left and lower axes only\n",
    "ax.xaxis.set_ticks_position('bottom')\n",
    "ax.yaxis.set_ticks_position('left')\n",
    "\n",
    "plt.rcParams['figure.figsize'] = 2,2\n",
    "plt.rcParams['axes.grid'] = True\n",
    "\n",
    "# Draw the line segment between the two specified points\n",
    "\n",
    "plt.plot([x1, x2], [y1, y2])\n",
    "plt.plot([x1, x2], [y1, y2], 'o')\n",
    "\n",
    "\n",
    "N = 100\n",
    "t = np.linspace(0, 2 * np.pi, N)\n",
    "x, y = r * np.cos(t)+x1, r * np.sin(t)+y1\n",
    "\n",
    "plt.plot(x, y, \"k\")\n",
    "\n",
    "# Define a method to generate equaly spaced points in a list for an axis\n",
    "\n",
    "def createList(m, n):\n",
    "    lst = []\n",
    "    for i in range(m, n+1):\n",
    "        lst.append(i)\n",
    "    return(lst)\n",
    "\n",
    "# Generate range for y-axis to plot appropriately\n",
    "\n",
    "if x1>0 and x2>0:\n",
    "    if x1>x2:\n",
    "        xax = createList(0,x1)\n",
    "        print(createList(0,x1))\n",
    "    elif x1<x2:\n",
    "        xax = createList(0,x2)\n",
    "        print(createList(0,x2))\n",
    "elif x1<0 and x2<0:\n",
    "    if x1<x2:\n",
    "        xax = createList(x1,0)\n",
    "        print(createList(x1,0))\n",
    "    elif x1>x2:\n",
    "        xax = createList(x2,0)\n",
    "        print(createList(x2,0))\n",
    "elif x1>0 and x2<0:\n",
    "    xax = createList(x2,x1)\n",
    "    print(createList(x2,x1))\n",
    "elif x2>0 and x1<0:\n",
    "    xax = createList(x1,x2)\n",
    "    print(createList(x1,x2))\n",
    "\n",
    "# Generate range for y-axis to plot appropriately\n",
    "    \n",
    "if y1>0 and y2>0:\n",
    "    if y1>y2:\n",
    "        yax = createList(0,y1)\n",
    "        print(createList(0,y1))\n",
    "    elif y1<y2:\n",
    "        yax = createList(0,y2)\n",
    "        print(createList(0,y2))\n",
    "elif y1<0 and y2<0:\n",
    "    if y1<y2:\n",
    "        yax = createList(y1,0)\n",
    "        print(createList(y1,0))\n",
    "    elif y1>y2:\n",
    "        yax = createList(y2,0)\n",
    "        print(createList(y2,0))\n",
    "elif y1>0 and y2<0:\n",
    "    yax = createList(y2,y1)\n",
    "    print(createList(y2,y1))\n",
    "elif y2>0 and y1<0:\n",
    "    yax = createList(y1,y2)\n",
    "    print(createList(y1,y2))\n",
    "\n",
    "display(calculateDistance(x1,y1,x2,y2))\n",
    "\n",
    "plt.xticks(xax)\n",
    "plt.yticks(yax)\n",
    "\n",
    "plt.show()"
   ]
  },
  {
   "cell_type": "code",
   "execution_count": 6,
   "id": "c5553183",
   "metadata": {},
   "outputs": [],
   "source": [
    "%reset -f"
   ]
  },
  {
   "cell_type": "markdown",
   "id": "eed84ecd",
   "metadata": {},
   "source": [
    "<code> >> pip install ipywidgets </code>"
   ]
  },
  {
   "cell_type": "code",
   "execution_count": 7,
   "id": "555c1398",
   "metadata": {},
   "outputs": [
    {
     "data": {
      "application/vnd.jupyter.widget-view+json": {
       "model_id": "a6e3c4e4ed1b4149b8f94b9e3d9dbbe3",
       "version_major": 2,
       "version_minor": 0
      },
      "text/plain": [
       "HBox(children=(VBox(children=(Button(description='Yes', style=ButtonStyle()), Button(description='No', style=B…"
      ]
     },
     "metadata": {},
     "output_type": "display_data"
    }
   ],
   "source": [
    "%matplotlib inline\n",
    "\n",
    "import ipywidgets as widgets\n",
    "import matplotlib.pyplot as plt\n",
    "\n",
    "button1 = widgets.Button(description=\"Yes\")\n",
    "button2 = widgets.Button(description=\"No\")\n",
    "out = widgets.Output()\n",
    "\n",
    "buttons = widgets.VBox(children=[button1, button2])\n",
    "all_widgets = widgets.HBox(children=[buttons, out])\n",
    "display(all_widgets)\n",
    "\n",
    "def logyes(b):\n",
    "    print(\"yes\")\n",
    "\n",
    "def logno(b):\n",
    "    print(\"no\")\n",
    "\n",
    "button1.on_click(logyes)\n",
    "button2.on_click(logno)\n",
    "\n",
    "with out:\n",
    "    plt.figure(figsize=(3,3))\n",
    "    plt.plot([1,2],[3,4])\n",
    "    plt.show()"
   ]
  },
  {
   "cell_type": "code",
   "execution_count": null,
   "id": "7013592b",
   "metadata": {},
   "outputs": [],
   "source": []
  }
 ],
 "metadata": {
  "kernelspec": {
   "display_name": "Python 3 (ipykernel)",
   "language": "python",
   "name": "python3"
  },
  "language_info": {
   "codemirror_mode": {
    "name": "ipython",
    "version": 3
   },
   "file_extension": ".py",
   "mimetype": "text/x-python",
   "name": "python",
   "nbconvert_exporter": "python",
   "pygments_lexer": "ipython3",
   "version": "3.10.4"
  }
 },
 "nbformat": 4,
 "nbformat_minor": 5
}
