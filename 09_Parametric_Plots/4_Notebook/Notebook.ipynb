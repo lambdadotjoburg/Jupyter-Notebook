{
 "cells": [
  {
   "cell_type": "markdown",
   "id": "da2f9027",
   "metadata": {},
   "source": [
    "# Circle's, Trigonometry and Animation"
   ]
  },
  {
   "cell_type": "code",
   "execution_count": null,
   "id": "d9eed5c0",
   "metadata": {},
   "outputs": [
    {
     "name": "stdout",
     "output_type": "stream",
     "text": [
      "Enter a radius value:\n"
     ]
    }
   ],
   "source": [
    "# Import required/appropriate mathematics packages\n",
    "from numpy import *\n",
    "import matplotlib.pyplot as plt\n",
    "\n",
    "# Import package to validate input (Regex - Regular Expressions)\n",
    "import re\n",
    "\n",
    "# Import module to handle pseudo random numbers\n",
    "import random\n",
    "\n",
    "# Enter radius value, convert to floating number, etc.\n",
    "print('Enter a radius value:')\n",
    "\n",
    "radius=input()\n",
    "\n",
    "try:\n",
    "    r=float(radius)\n",
    "except ValueError:\n",
    "    r=1\n",
    "    print(\"That's not a valid input. A default value has been chosen!\")\n",
    "\n",
    "\n",
    "# Enter a coordinate pair for the center of the circle\n",
    "print('Enter a coordinate pair in the form (x,y) for the center of the circle:')\n",
    "\n",
    "center=input()\n",
    "\n",
    "# Check if the coordinate pair input matches the prescribed input format (at most two decimals)\n",
    "if re.match('^[(][-]?[0-9]*\\.?[0-9]?[0-9]?,[-]?[0-9]*\\.?[0-9]?[0-9]?[)]$',center):\n",
    "    lst = center.split(',')\n",
    "    x=str(lst[0]).replace('(','')\n",
    "    y=str(lst[1]).replace(')','')\n",
    "    x0=float(x)\n",
    "    y0=float(y)\n",
    "    \n",
    "else:\n",
    "    x0=0\n",
    "    y0=0\n",
    "    print(\"That's not a valid input. A default coordinate pair has been chosen!\")\n",
    "\n",
    "# Define parametric equation of a circle (t represents an angle)\n",
    "t=arange(0,2*pi,.01)\n",
    "x=r*sin(t)+x0\n",
    "y=r*cos(t)+y0\n",
    "\n",
    "# Enter a coordinate pair for the center of the circle\n",
    "print('Enter an angle in degrees:')\n",
    "\n",
    "angle=input()\n",
    "\n",
    "try:\n",
    "    theta=float(angle)\n",
    "    rad=(2*pi/360)*theta\n",
    "except ValueError:\n",
    "    theta=random.randrange(0, 360)\n",
    "    print(\"That's not a valid input. A random value has been generated!\")\n",
    "    print(theta)\n",
    "    rad=(2*pi/360)*theta\n",
    "\n",
    "# Parametric Equation of a straight line segment, since angle and radius are fixed with parameter s\n",
    "s = linspace(0, 1)\n",
    "p=s*r*cos(rad)+x0\n",
    "q=s*r*sin(rad)+y0\n",
    "    \n",
    "# Center the Axes through (0, 0)\n",
    "figure, axes = plt.subplots()\n",
    "axes.spines['bottom'].set_position('zero')\n",
    "axes.spines['top'].set_color('none')\n",
    "axes.spines['left'].set_position('zero')\n",
    "axes.spines['right'].set_color('none')\n",
    "axes.set_aspect(1)\n",
    "\n",
    "# Center of the circle at (x0,y0)\n",
    "Drawing_colored_center=plt.Circle((x0,y0),0.05*r,fill=True)\n",
    "axes.add_artist(Drawing_colored_center)\n",
    "\n",
    "plt.title('Circle')\n",
    "\n",
    "plt.plot(x,y, p, q)\n",
    "\n",
    "plt.show()"
   ]
  },
  {
   "cell_type": "code",
   "execution_count": null,
   "id": "82c7730c",
   "metadata": {},
   "outputs": [],
   "source": []
  },
  {
   "cell_type": "code",
   "execution_count": null,
   "id": "627de994",
   "metadata": {},
   "outputs": [],
   "source": []
  },
  {
   "cell_type": "code",
   "execution_count": null,
   "id": "13575134",
   "metadata": {},
   "outputs": [],
   "source": []
  }
 ],
 "metadata": {
  "kernelspec": {
   "display_name": "Python 3 (ipykernel)",
   "language": "python",
   "name": "python3"
  },
  "language_info": {
   "codemirror_mode": {
    "name": "ipython",
    "version": 3
   },
   "file_extension": ".py",
   "mimetype": "text/x-python",
   "name": "python",
   "nbconvert_exporter": "python",
   "pygments_lexer": "ipython3",
   "version": "3.10.4"
  }
 },
 "nbformat": 4,
 "nbformat_minor": 5
}
